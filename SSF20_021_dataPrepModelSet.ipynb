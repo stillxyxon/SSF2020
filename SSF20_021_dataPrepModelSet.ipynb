{
 "cells": [
  {
   "cell_type": "markdown",
   "metadata": {},
   "source": [
    "# Data Preparation for Predictive Modeling\n",
    "\n",
    "- 거래데이터로부터 예측모델링을 위한 훈련, 테스트 데이터 생성"
   ]
  },
  {
   "cell_type": "code",
   "execution_count": 1,
   "metadata": {},
   "outputs": [],
   "source": [
    "# 기본 라이브러리 로딩 및 사용자 정의함수 정의\n",
    "\n",
    "import numpy as np\n",
    "import matplotlib.pyplot as plt\n",
    "import pandas as pd\n",
    "from numpy.polynomial.polynomial import polyfit\n",
    "import matplotlib.style as style \n",
    "\n",
    "import warnings\n",
    "warnings.filterwarnings('ignore')\n",
    "\n",
    "\n",
    "# define universally useful UDFs\n",
    "\n",
    "# define random jitter\n",
    "def rjitt(arr):\n",
    "    stdev = .01*(max(arr)-min(arr))\n",
    "    return arr + np.random.randn(len(arr)) * stdev\n",
    "\n",
    "\n",
    "# custom min max scaler\n",
    "def mnmx_scl(vec):\n",
    "    vec = (vec-vec.min())/(vec.max()-vec.min())\n",
    "    return(vec)\n",
    "\n",
    "def zrmx_scl(vec):\n",
    "    vec = vec/vec.max()\n",
    "    return(vec)\n",
    "\n",
    "# to set data path\n",
    "dataPath = 'https://github.com/stillxyxon/kma_Recsys2020/raw/master/'\n",
    "\n",
    "\n",
    "# matplotlib 에서 한글을 표시하기 위한 설정\n",
    "import matplotlib\n",
    "\n",
    "font_name = matplotlib.font_manager.FontProperties(\n",
    "                fname=\"c:/Windows/Fonts/malgun.ttf\"  # 윈도우즈의 한글 폰트 위치를 지정\n",
    "            ).get_name()\n",
    "matplotlib.rc('font', family=font_name) # 한글 표시 가능하도록 폰트 지정 \n",
    "matplotlib.rcParams['axes.unicode_minus'] = False #  음수를 나타내는 '-' 부호가 정상 표시되도록"
   ]
  },
  {
   "cell_type": "markdown",
   "metadata": {},
   "source": [
    "### The Dataset : B2B Online Shopping Transactions\n",
    "\n",
    "- A publicly availble dataset of B2B online retailer\n",
    "- Data source : https://archive.ics.uci.edu/ml/datasets/online+retail\n",
    "- Most of the customers are wholesalers in Europe"
   ]
  },
  {
   "cell_type": "code",
   "execution_count": 2,
   "metadata": {},
   "outputs": [
    {
     "name": "stdout",
     "output_type": "stream",
     "text": [
      "https://github.com/stillxyxon/kma_Recsys2020/raw/master/onlineRetail_A.csv\n",
      "shape of df :  (541909, 8)\n",
      "num of unique customer IDs : 4339\n"
     ]
    },
    {
     "data": {
      "text/html": [
       "<div>\n",
       "<style scoped>\n",
       "    .dataframe tbody tr th:only-of-type {\n",
       "        vertical-align: middle;\n",
       "    }\n",
       "\n",
       "    .dataframe tbody tr th {\n",
       "        vertical-align: top;\n",
       "    }\n",
       "\n",
       "    .dataframe thead th {\n",
       "        text-align: right;\n",
       "    }\n",
       "</style>\n",
       "<table border=\"1\" class=\"dataframe\">\n",
       "  <thead>\n",
       "    <tr style=\"text-align: right;\">\n",
       "      <th></th>\n",
       "      <th>InvoiceNo</th>\n",
       "      <th>StockCode</th>\n",
       "      <th>Description</th>\n",
       "      <th>Quantity</th>\n",
       "      <th>InvoiceDate</th>\n",
       "      <th>UnitPrice</th>\n",
       "      <th>CustomerID</th>\n",
       "      <th>Country</th>\n",
       "    </tr>\n",
       "  </thead>\n",
       "  <tbody>\n",
       "    <tr>\n",
       "      <th>0</th>\n",
       "      <td>536365</td>\n",
       "      <td>85123A</td>\n",
       "      <td>WHITE HANGING HEART T-LIGHT HOLDER</td>\n",
       "      <td>6</td>\n",
       "      <td>2010-12-01 8:26</td>\n",
       "      <td>2.55</td>\n",
       "      <td>17850.0</td>\n",
       "      <td>United Kingdom</td>\n",
       "    </tr>\n",
       "    <tr>\n",
       "      <th>1</th>\n",
       "      <td>536365</td>\n",
       "      <td>71053</td>\n",
       "      <td>WHITE METAL LANTERN</td>\n",
       "      <td>6</td>\n",
       "      <td>2010-12-01 8:26</td>\n",
       "      <td>3.39</td>\n",
       "      <td>17850.0</td>\n",
       "      <td>United Kingdom</td>\n",
       "    </tr>\n",
       "    <tr>\n",
       "      <th>2</th>\n",
       "      <td>536365</td>\n",
       "      <td>84406B</td>\n",
       "      <td>CREAM CUPID HEARTS COAT HANGER</td>\n",
       "      <td>8</td>\n",
       "      <td>2010-12-01 8:26</td>\n",
       "      <td>2.75</td>\n",
       "      <td>17850.0</td>\n",
       "      <td>United Kingdom</td>\n",
       "    </tr>\n",
       "    <tr>\n",
       "      <th>3</th>\n",
       "      <td>536365</td>\n",
       "      <td>84029G</td>\n",
       "      <td>KNITTED UNION FLAG HOT WATER BOTTLE</td>\n",
       "      <td>6</td>\n",
       "      <td>2010-12-01 8:26</td>\n",
       "      <td>3.39</td>\n",
       "      <td>17850.0</td>\n",
       "      <td>United Kingdom</td>\n",
       "    </tr>\n",
       "    <tr>\n",
       "      <th>4</th>\n",
       "      <td>536365</td>\n",
       "      <td>84029E</td>\n",
       "      <td>RED WOOLLY HOTTIE WHITE HEART.</td>\n",
       "      <td>6</td>\n",
       "      <td>2010-12-01 8:26</td>\n",
       "      <td>3.39</td>\n",
       "      <td>17850.0</td>\n",
       "      <td>United Kingdom</td>\n",
       "    </tr>\n",
       "  </tbody>\n",
       "</table>\n",
       "</div>"
      ],
      "text/plain": [
       "  InvoiceNo StockCode                          Description  Quantity  \\\n",
       "0    536365    85123A   WHITE HANGING HEART T-LIGHT HOLDER         6   \n",
       "1    536365     71053                  WHITE METAL LANTERN         6   \n",
       "2    536365    84406B       CREAM CUPID HEARTS COAT HANGER         8   \n",
       "3    536365    84029G  KNITTED UNION FLAG HOT WATER BOTTLE         6   \n",
       "4    536365    84029E       RED WOOLLY HOTTIE WHITE HEART.         6   \n",
       "\n",
       "       InvoiceDate  UnitPrice  CustomerID         Country  \n",
       "0  2010-12-01 8:26       2.55     17850.0  United Kingdom  \n",
       "1  2010-12-01 8:26       3.39     17850.0  United Kingdom  \n",
       "2  2010-12-01 8:26       2.75     17850.0  United Kingdom  \n",
       "3  2010-12-01 8:26       3.39     17850.0  United Kingdom  \n",
       "4  2010-12-01 8:26       3.39     17850.0  United Kingdom  "
      ]
     },
     "execution_count": 2,
     "metadata": {},
     "output_type": "execute_result"
    }
   ],
   "source": [
    "# load dataset\n",
    "\n",
    "# tr01a = tr01.head(270955)\n",
    "# tr01a.to_csv(dataPath + 'onlineRetail_A.csv', index=False)\n",
    "print(dataPath + 'onlineRetail_A.csv')\n",
    "\n",
    "tr01a = pd.read_csv(dataPath + 'onlineRetail_A.csv')\n",
    "\n",
    "# tr01b = tr01.tail(270954)\n",
    "# tr01b.to_csv(dataPath + 'onlineRetail_B.csv', index=False)\n",
    "tr01b = pd.read_csv(dataPath + 'onlineRetail_B.csv')\n",
    "\n",
    "# to bypass github upload size limitation, read pre-split datasets and merge\n",
    "tr01 = pd.concat([tr01a, tr01b], axis=0)\n",
    "print('shape of df : ', tr01.shape)\n",
    "\n",
    "# include only valid transactions (i.e. exclude returns and cancels )\n",
    "# 수량이 음수이거나 단가가 음수면 취소/반품 성격\n",
    "tr01 = tr01[(tr01.Quantity>0) & tr01.UnitPrice>0]\n",
    "\n",
    "SCdesc_mast = tr01[['StockCode','Description']].drop_duplicates()\n",
    "\n",
    "print('num of unique customer IDs :', len(tr01.CustomerID.unique()))\n",
    "tr01.head()"
   ]
  },
  {
   "cell_type": "code",
   "execution_count": 3,
   "metadata": {},
   "outputs": [
    {
     "data": {
      "text/plain": [
       "array([14870.,    nan,    nan, 17841., 15861., 12637., 15467.,    nan,\n",
       "       16033., 17850., 16009., 15505.,    nan, 14857., 14159., 15752.,\n",
       "       12425., 17243., 18210., 16729., 15769., 14356., 16070., 14911.,\n",
       "       17841., 16110., 18077., 13566., 16367., 15494., 16750.,    nan,\n",
       "       15159., 13720., 12749., 16128., 13991., 15022., 14954., 15901.,\n",
       "       17841., 14733., 14030.,    nan,    nan, 15114., 14132., 12611.,\n",
       "       17114.,    nan, 14911., 13730., 16652.,    nan, 17297., 15953.,\n",
       "       13599., 13838., 14684.,    nan, 16984., 14360., 17385., 15005.,\n",
       "       16145.,    nan, 12965., 13327.,    nan, 12967., 14227., 13319.,\n",
       "       15791., 14159.,    nan,    nan, 13569., 15136., 13093., 13521.,\n",
       "       18161., 13089.,    nan, 17567., 14239.,    nan, 15932., 13263.,\n",
       "       12584., 14855., 16233.,    nan, 16907., 14646., 14243., 13488.,\n",
       "       16187., 15750.,    nan, 14934.])"
      ]
     },
     "execution_count": 3,
     "metadata": {},
     "output_type": "execute_result"
    }
   ],
   "source": [
    "# sampling 0.1K customers\n",
    "# 눈으로 확인하려고 무작위 백명을 추출\n",
    "\n",
    "from random import sample \n",
    "\n",
    "np.array(sample(list(tr01.CustomerID),100))\n",
    "\n",
    "# CustomerID 변수값이 missing인 경우 다수 존재 == anonymous users?"
   ]
  },
  {
   "cell_type": "markdown",
   "metadata": {},
   "source": [
    "- 타겟마케팅을 위해 고객을 분석하는 것이라면 식별된 고객만으로 한정하는 것이 불가피"
   ]
  },
  {
   "cell_type": "code",
   "execution_count": 4,
   "metadata": {},
   "outputs": [
    {
     "data": {
      "text/plain": [
       "((530106, 8), (397884, 8))"
      ]
     },
     "execution_count": 4,
     "metadata": {},
     "output_type": "execute_result"
    }
   ],
   "source": [
    "# ID 없는 건 제외한 df 생성\n",
    "\n",
    "tr02 = tr01[tr01.CustomerID.notnull()]\n",
    "tr01.shape, tr02.shape"
   ]
  },
  {
   "cell_type": "code",
   "execution_count": 5,
   "metadata": {},
   "outputs": [
    {
     "data": {
      "text/plain": [
       "('2010-12-01 10:03', '2011-12-09 9:46')"
      ]
     },
     "execution_count": 5,
     "metadata": {},
     "output_type": "execute_result"
    }
   ],
   "source": [
    "# 데이터 기간 확인\n",
    "tr02.InvoiceDate.min(), tr02.InvoiceDate.max()"
   ]
  },
  {
   "cell_type": "code",
   "execution_count": 6,
   "metadata": {},
   "outputs": [
    {
     "data": {
      "text/plain": [
       "<matplotlib.axes._subplots.AxesSubplot at 0x1df0d816550>"
      ]
     },
     "execution_count": 6,
     "metadata": {},
     "output_type": "execute_result"
    },
    {
     "data": {
      "image/png": "[encoded data removed]",
      "text/plain": [
       "<Figure size 864x216 with 1 Axes>"
      ]
     },
     "metadata": {
      "needs_background": "light"
     },
     "output_type": "display_data"
    }
   ],
   "source": [
    "# 일자별 건수 확인\n",
    "\n",
    "tr02['date'] = tr02.InvoiceDate.str.slice(0,10) # 시간은 제외하고 일자만 string 컬럼으로\n",
    "\n",
    "# 막대챠트 생성\n",
    "tr02[['date','InvoiceNo']].groupby('date').count().plot(kind='bar', figsize=(12,3))"
   ]
  },
  {
   "cell_type": "code",
   "execution_count": 7,
   "metadata": {},
   "outputs": [
    {
     "data": {
      "text/plain": [
       "<matplotlib.axes._subplots.AxesSubplot at 0x1df164adbe0>"
      ]
     },
     "execution_count": 7,
     "metadata": {},
     "output_type": "execute_result"
    },
    {
     "data": {
      "image/png": "[encoded data removed]",
      "text/plain": [
       "<Figure size 864x216 with 1 Axes>"
      ]
     },
     "metadata": {
      "needs_background": "light"
     },
     "output_type": "display_data"
    }
   ],
   "source": [
    "# 월별 건수 확인\n",
    "\n",
    "tr02['month'] = tr02.InvoiceDate.str.slice(0,7) # 월만 string 컬럼으로\n",
    "\n",
    "# 막대챠트 생성\n",
    "tr02[['month','InvoiceNo']].groupby('month').count().plot(kind='bar', figsize=(12,3))"
   ]
  },
  {
   "cell_type": "markdown",
   "metadata": {},
   "source": [
    "- [검토] 2011년 12월은 9일 까지만 데이터가 존재 --> 1년에 약간 여유를 두고 추출한 것이라면 12개월~1개월 형태로 예측모델을 만들기는 부적합할 것\n",
    "- 마지막달이 1개월이 안되므로"
   ]
  },
  {
   "cell_type": "markdown",
   "metadata": {},
   "source": [
    "## preparing dataset for RFM style modeling"
   ]
  },
  {
   "cell_type": "markdown",
   "metadata": {},
   "source": [
    "### separate predictor and target time period\n",
    "- 예측모델링 형태에서는 독립변수와 종속변수 target의 기간이 다름\n",
    "- 독립변수와 종속변수를 각기 다른 기간의 데이터로 생성해야함\n",
    "- RFM의 구조는 예측모델 형태"
   ]
  },
  {
   "cell_type": "code",
   "execution_count": 8,
   "metadata": {},
   "outputs": [],
   "source": [
    "# Description in ['Manual', 'POSTAGE', 'DOTCOM POSTAGE'] 제외 필요\n",
    "tr02 = tr02[~tr02.Description.isin(['Manual', 'POSTAGE', 'DOTCOM POSTAGE'])]"
   ]
  },
  {
   "cell_type": "code",
   "execution_count": 9,
   "metadata": {},
   "outputs": [
    {
     "data": {
      "text/html": [
       "<div>\n",
       "<style scoped>\n",
       "    .dataframe tbody tr th:only-of-type {\n",
       "        vertical-align: middle;\n",
       "    }\n",
       "\n",
       "    .dataframe tbody tr th {\n",
       "        vertical-align: top;\n",
       "    }\n",
       "\n",
       "    .dataframe thead th {\n",
       "        text-align: right;\n",
       "    }\n",
       "</style>\n",
       "<table border=\"1\" class=\"dataframe\">\n",
       "  <thead>\n",
       "    <tr style=\"text-align: right;\">\n",
       "      <th></th>\n",
       "      <th>InvoiceNo</th>\n",
       "      <th>StockCode</th>\n",
       "      <th>Description</th>\n",
       "      <th>Quantity</th>\n",
       "      <th>InvoiceDate</th>\n",
       "      <th>UnitPrice</th>\n",
       "      <th>CustomerID</th>\n",
       "      <th>Country</th>\n",
       "      <th>date</th>\n",
       "      <th>month</th>\n",
       "    </tr>\n",
       "  </thead>\n",
       "  <tbody>\n",
       "    <tr>\n",
       "      <th>245409</th>\n",
       "      <td>579885</td>\n",
       "      <td>85034C</td>\n",
       "      <td>3 ROSE MORRIS BOXED CANDLES</td>\n",
       "      <td>4</td>\n",
       "      <td>2011-11-30 17:37</td>\n",
       "      <td>1.25</td>\n",
       "      <td>15444.0</td>\n",
       "      <td>United Kingdom</td>\n",
       "      <td>2011-11-30</td>\n",
       "      <td>2011-11</td>\n",
       "    </tr>\n",
       "    <tr>\n",
       "      <th>245410</th>\n",
       "      <td>579885</td>\n",
       "      <td>21742</td>\n",
       "      <td>LARGE ROUND WICKER PLATTER</td>\n",
       "      <td>2</td>\n",
       "      <td>2011-11-30 17:37</td>\n",
       "      <td>5.95</td>\n",
       "      <td>15444.0</td>\n",
       "      <td>United Kingdom</td>\n",
       "      <td>2011-11-30</td>\n",
       "      <td>2011-11</td>\n",
       "    </tr>\n",
       "    <tr>\n",
       "      <th>245411</th>\n",
       "      <td>579885</td>\n",
       "      <td>23084</td>\n",
       "      <td>RABBIT NIGHT LIGHT</td>\n",
       "      <td>6</td>\n",
       "      <td>2011-11-30 17:37</td>\n",
       "      <td>2.08</td>\n",
       "      <td>15444.0</td>\n",
       "      <td>United Kingdom</td>\n",
       "      <td>2011-11-30</td>\n",
       "      <td>2011-11</td>\n",
       "    </tr>\n",
       "    <tr>\n",
       "      <th>245412</th>\n",
       "      <td>579885</td>\n",
       "      <td>21257</td>\n",
       "      <td>VICTORIAN SEWING BOX MEDIUM</td>\n",
       "      <td>1</td>\n",
       "      <td>2011-11-30 17:37</td>\n",
       "      <td>7.95</td>\n",
       "      <td>15444.0</td>\n",
       "      <td>United Kingdom</td>\n",
       "      <td>2011-11-30</td>\n",
       "      <td>2011-11</td>\n",
       "    </tr>\n",
       "    <tr>\n",
       "      <th>245413</th>\n",
       "      <td>579885</td>\n",
       "      <td>21259</td>\n",
       "      <td>VICTORIAN SEWING BOX SMALL</td>\n",
       "      <td>1</td>\n",
       "      <td>2011-11-30 17:37</td>\n",
       "      <td>5.95</td>\n",
       "      <td>15444.0</td>\n",
       "      <td>United Kingdom</td>\n",
       "      <td>2011-11-30</td>\n",
       "      <td>2011-11</td>\n",
       "    </tr>\n",
       "  </tbody>\n",
       "</table>\n",
       "</div>"
      ],
      "text/plain": [
       "       InvoiceNo StockCode                  Description  Quantity  \\\n",
       "245409    579885    85034C  3 ROSE MORRIS BOXED CANDLES         4   \n",
       "245410    579885     21742  LARGE ROUND WICKER PLATTER          2   \n",
       "245411    579885     23084           RABBIT NIGHT LIGHT         6   \n",
       "245412    579885     21257  VICTORIAN SEWING BOX MEDIUM         1   \n",
       "245413    579885     21259  VICTORIAN SEWING BOX SMALL          1   \n",
       "\n",
       "             InvoiceDate  UnitPrice  CustomerID         Country        date  \\\n",
       "245409  2011-11-30 17:37       1.25     15444.0  United Kingdom  2011-11-30   \n",
       "245410  2011-11-30 17:37       5.95     15444.0  United Kingdom  2011-11-30   \n",
       "245411  2011-11-30 17:37       2.08     15444.0  United Kingdom  2011-11-30   \n",
       "245412  2011-11-30 17:37       7.95     15444.0  United Kingdom  2011-11-30   \n",
       "245413  2011-11-30 17:37       5.95     15444.0  United Kingdom  2011-11-30   \n",
       "\n",
       "          month  \n",
       "245409  2011-11  \n",
       "245410  2011-11  \n",
       "245411  2011-11  \n",
       "245412  2011-11  \n",
       "245413  2011-11  "
      ]
     },
     "execution_count": 9,
     "metadata": {},
     "output_type": "execute_result"
    }
   ],
   "source": [
    "# subset data to prepare predictor set\n",
    "\n",
    "tr02a = tr02[(tr02.date>='2010-12-01') & (tr02.date<='2011-11-30')] #  12개월분 데이터 포함\n",
    "tr02a.tail()\n",
    "\n",
    "# 무조건 1년단위로 채워야 하는 것은 아니지만, \n",
    "# 계절성이 흔히 큰 영향을 주므로 1년 채우는 것이 유용한 경우 많음"
   ]
  },
  {
   "cell_type": "code",
   "execution_count": 10,
   "metadata": {},
   "outputs": [
    {
     "data": {
      "text/html": [
       "<div>\n",
       "<style scoped>\n",
       "    .dataframe tbody tr th:only-of-type {\n",
       "        vertical-align: middle;\n",
       "    }\n",
       "\n",
       "    .dataframe tbody tr th {\n",
       "        vertical-align: top;\n",
       "    }\n",
       "\n",
       "    .dataframe thead th {\n",
       "        text-align: right;\n",
       "    }\n",
       "</style>\n",
       "<table border=\"1\" class=\"dataframe\">\n",
       "  <thead>\n",
       "    <tr style=\"text-align: right;\">\n",
       "      <th></th>\n",
       "      <th>CustomerID</th>\n",
       "      <th>Frq</th>\n",
       "    </tr>\n",
       "  </thead>\n",
       "  <tbody>\n",
       "    <tr>\n",
       "      <th>0</th>\n",
       "      <td>12346.0</td>\n",
       "      <td>1</td>\n",
       "    </tr>\n",
       "    <tr>\n",
       "      <th>1</th>\n",
       "      <td>12347.0</td>\n",
       "      <td>6</td>\n",
       "    </tr>\n",
       "    <tr>\n",
       "      <th>2</th>\n",
       "      <td>12348.0</td>\n",
       "      <td>4</td>\n",
       "    </tr>\n",
       "    <tr>\n",
       "      <th>3</th>\n",
       "      <td>12349.0</td>\n",
       "      <td>1</td>\n",
       "    </tr>\n",
       "    <tr>\n",
       "      <th>4</th>\n",
       "      <td>12350.0</td>\n",
       "      <td>1</td>\n",
       "    </tr>\n",
       "  </tbody>\n",
       "</table>\n",
       "</div>"
      ],
      "text/plain": [
       "   CustomerID  Frq\n",
       "0     12346.0    1\n",
       "1     12347.0    6\n",
       "2     12348.0    4\n",
       "3     12349.0    1\n",
       "4     12350.0    1"
      ]
     },
     "execution_count": 10,
     "metadata": {},
     "output_type": "execute_result"
    }
   ],
   "source": [
    "# create a predictor named Frequency\n",
    "# 동일한 날짜에 여러 번 거래가 있어도 하나로 간주 (=하루)\n",
    "# Frequency는 거래일의 수 개념으로 정의\n",
    "\n",
    "trFrq = tr02a[['CustomerID', 'date']].drop_duplicates().groupby('CustomerID').count().reset_index()\n",
    "trFrq.columns = ['CustomerID', 'Frq']\n",
    "trFrq.head()"
   ]
  },
  {
   "cell_type": "code",
   "execution_count": 11,
   "metadata": {},
   "outputs": [
    {
     "data": {
      "text/html": [
       "<div>\n",
       "<style scoped>\n",
       "    .dataframe tbody tr th:only-of-type {\n",
       "        vertical-align: middle;\n",
       "    }\n",
       "\n",
       "    .dataframe tbody tr th {\n",
       "        vertical-align: top;\n",
       "    }\n",
       "\n",
       "    .dataframe thead th {\n",
       "        text-align: right;\n",
       "    }\n",
       "</style>\n",
       "<table border=\"1\" class=\"dataframe\">\n",
       "  <thead>\n",
       "    <tr style=\"text-align: right;\">\n",
       "      <th></th>\n",
       "      <th>CustomerID</th>\n",
       "      <th>AMT</th>\n",
       "    </tr>\n",
       "  </thead>\n",
       "  <tbody>\n",
       "    <tr>\n",
       "      <th>0</th>\n",
       "      <td>12346.0</td>\n",
       "      <td>77183.60</td>\n",
       "    </tr>\n",
       "    <tr>\n",
       "      <th>1</th>\n",
       "      <td>12347.0</td>\n",
       "      <td>4085.18</td>\n",
       "    </tr>\n",
       "    <tr>\n",
       "      <th>2</th>\n",
       "      <td>12348.0</td>\n",
       "      <td>1437.24</td>\n",
       "    </tr>\n",
       "    <tr>\n",
       "      <th>3</th>\n",
       "      <td>12349.0</td>\n",
       "      <td>1457.55</td>\n",
       "    </tr>\n",
       "    <tr>\n",
       "      <th>4</th>\n",
       "      <td>12350.0</td>\n",
       "      <td>294.40</td>\n",
       "    </tr>\n",
       "  </tbody>\n",
       "</table>\n",
       "</div>"
      ],
      "text/plain": [
       "   CustomerID       AMT\n",
       "0     12346.0  77183.60\n",
       "1     12347.0   4085.18\n",
       "2     12348.0   1437.24\n",
       "3     12349.0   1457.55\n",
       "4     12350.0    294.40"
      ]
     },
     "execution_count": 11,
     "metadata": {},
     "output_type": "execute_result"
    }
   ],
   "source": [
    "# Monetary - 전체기간 금액 합계\n",
    "\n",
    "trAMT01 = tr02a[['CustomerID', 'Quantity', 'UnitPrice']]\n",
    "# 수량과 단가를 곱해서 record 별 (= order detail) 금액 산출\n",
    "trAMT01['Amount'] = tr02a.Quantity * tr02a.UnitPrice\n",
    "\n",
    "# 고객별 금액 집계\n",
    "trAMT02 = trAMT01[['CustomerID', 'Amount']].groupby('CustomerID').sum().reset_index()\n",
    "trAMT02.columns = ['CustomerID', 'AMT']\n",
    "trAMT02.head()"
   ]
  },
  {
   "cell_type": "code",
   "execution_count": 12,
   "metadata": {},
   "outputs": [
    {
     "data": {
      "image/png": "[encoded data removed]",
      "text/plain": [
       "<Figure size 432x288 with 1 Axes>"
      ]
     },
     "metadata": {
      "needs_background": "light"
     },
     "output_type": "display_data"
    },
    {
     "data": {
      "text/plain": [
       "4989      295.0\n",
       "82768     295.0\n",
       "118769    295.0\n",
       "171178    295.0\n",
       "32484     295.0\n",
       "205759    295.0\n",
       "51636     295.0\n",
       "133994    295.0\n",
       "222682    649.5\n",
       "222680    649.5\n",
       "Name: UnitPrice, dtype: float64"
      ]
     },
     "execution_count": 12,
     "metadata": {},
     "output_type": "execute_result"
    }
   ],
   "source": [
    "# 단가의 분포 확인\n",
    "tr02a.UnitPrice.plot(kind='box')\n",
    "plt.show()\n",
    "\n",
    "# 단가가 매우 큰 경우 (outlier?) 확인\n",
    "tr02a.UnitPrice.sort_values().tail(10)"
   ]
  },
  {
   "cell_type": "code",
   "execution_count": 13,
   "metadata": {},
   "outputs": [
    {
     "data": {
      "text/html": [
       "<div>\n",
       "<style scoped>\n",
       "    .dataframe tbody tr th:only-of-type {\n",
       "        vertical-align: middle;\n",
       "    }\n",
       "\n",
       "    .dataframe tbody tr th {\n",
       "        vertical-align: top;\n",
       "    }\n",
       "\n",
       "    .dataframe thead th {\n",
       "        text-align: right;\n",
       "    }\n",
       "</style>\n",
       "<table border=\"1\" class=\"dataframe\">\n",
       "  <thead>\n",
       "    <tr style=\"text-align: right;\">\n",
       "      <th></th>\n",
       "      <th>InvoiceNo</th>\n",
       "      <th>StockCode</th>\n",
       "      <th>Description</th>\n",
       "      <th>Quantity</th>\n",
       "      <th>InvoiceDate</th>\n",
       "      <th>UnitPrice</th>\n",
       "      <th>CustomerID</th>\n",
       "      <th>Country</th>\n",
       "      <th>date</th>\n",
       "      <th>month</th>\n",
       "    </tr>\n",
       "  </thead>\n",
       "  <tbody>\n",
       "    <tr>\n",
       "      <th>222680</th>\n",
       "      <td>556444</td>\n",
       "      <td>22502</td>\n",
       "      <td>PICNIC BASKET WICKER 60 PIECES</td>\n",
       "      <td>60</td>\n",
       "      <td>2011-06-10 15:28</td>\n",
       "      <td>649.5</td>\n",
       "      <td>15098.0</td>\n",
       "      <td>United Kingdom</td>\n",
       "      <td>2011-06-10</td>\n",
       "      <td>2011-06</td>\n",
       "    </tr>\n",
       "    <tr>\n",
       "      <th>222682</th>\n",
       "      <td>556446</td>\n",
       "      <td>22502</td>\n",
       "      <td>PICNIC BASKET WICKER 60 PIECES</td>\n",
       "      <td>1</td>\n",
       "      <td>2011-06-10 15:33</td>\n",
       "      <td>649.5</td>\n",
       "      <td>15098.0</td>\n",
       "      <td>United Kingdom</td>\n",
       "      <td>2011-06-10</td>\n",
       "      <td>2011-06</td>\n",
       "    </tr>\n",
       "  </tbody>\n",
       "</table>\n",
       "</div>"
      ],
      "text/plain": [
       "       InvoiceNo StockCode                     Description  Quantity  \\\n",
       "222680    556444     22502  PICNIC BASKET WICKER 60 PIECES        60   \n",
       "222682    556446     22502  PICNIC BASKET WICKER 60 PIECES         1   \n",
       "\n",
       "             InvoiceDate  UnitPrice  CustomerID         Country        date  \\\n",
       "222680  2011-06-10 15:28      649.5     15098.0  United Kingdom  2011-06-10   \n",
       "222682  2011-06-10 15:33      649.5     15098.0  United Kingdom  2011-06-10   \n",
       "\n",
       "          month  \n",
       "222680  2011-06  \n",
       "222682  2011-06  "
      ]
     },
     "execution_count": 13,
     "metadata": {},
     "output_type": "execute_result"
    }
   ],
   "source": [
    "tr02a[tr02a.UnitPrice>300].tail(10)\n",
    "\n",
    "# 우편 관련된 것들과 처리 관련된 것 등 상품으로 볼 수 없는 항목들 다수 = 분석 제외 대상\n",
    "# ['Manual', 'POSTAGE', 'DOTCOM POSTAGE']\n",
    "\n",
    "# ==> 처음으로 돌아가서 해당 데이터를 제외한 후 전체 집계 재실행!"
   ]
  },
  {
   "cell_type": "code",
   "execution_count": 14,
   "metadata": {},
   "outputs": [
    {
     "data": {
      "text/html": [
       "<div>\n",
       "<style scoped>\n",
       "    .dataframe tbody tr th:only-of-type {\n",
       "        vertical-align: middle;\n",
       "    }\n",
       "\n",
       "    .dataframe tbody tr th {\n",
       "        vertical-align: top;\n",
       "    }\n",
       "\n",
       "    .dataframe thead th {\n",
       "        text-align: right;\n",
       "    }\n",
       "</style>\n",
       "<table border=\"1\" class=\"dataframe\">\n",
       "  <thead>\n",
       "    <tr style=\"text-align: right;\">\n",
       "      <th></th>\n",
       "      <th>CustomerID</th>\n",
       "      <th>Frq</th>\n",
       "      <th>AMT</th>\n",
       "    </tr>\n",
       "  </thead>\n",
       "  <tbody>\n",
       "    <tr>\n",
       "      <th>0</th>\n",
       "      <td>17850.0</td>\n",
       "      <td>2</td>\n",
       "      <td>5391.21</td>\n",
       "    </tr>\n",
       "    <tr>\n",
       "      <th>1</th>\n",
       "      <td>13047.0</td>\n",
       "      <td>7</td>\n",
       "      <td>3232.59</td>\n",
       "    </tr>\n",
       "    <tr>\n",
       "      <th>2</th>\n",
       "      <td>12583.0</td>\n",
       "      <td>14</td>\n",
       "      <td>6064.61</td>\n",
       "    </tr>\n",
       "    <tr>\n",
       "      <th>3</th>\n",
       "      <td>13748.0</td>\n",
       "      <td>4</td>\n",
       "      <td>948.25</td>\n",
       "    </tr>\n",
       "    <tr>\n",
       "      <th>4</th>\n",
       "      <td>15100.0</td>\n",
       "      <td>3</td>\n",
       "      <td>876.00</td>\n",
       "    </tr>\n",
       "  </tbody>\n",
       "</table>\n",
       "</div>"
      ],
      "text/plain": [
       "   CustomerID  Frq      AMT\n",
       "0     17850.0    2  5391.21\n",
       "1     13047.0    7  3232.59\n",
       "2     12583.0   14  6064.61\n",
       "3     13748.0    4   948.25\n",
       "4     15100.0    3   876.00"
      ]
     },
     "execution_count": 14,
     "metadata": {},
     "output_type": "execute_result"
    }
   ],
   "source": [
    "# 집계된 RFM 변수들을 담을 고객리스트 테이블 생성\n",
    "dfRFM = tr02a[['CustomerID']].drop_duplicates()\n",
    "# dfRFM.head()\n",
    "\n",
    "# 하나씩 R, F, M 결합\n",
    "dfRFM = dfRFM.merge(trFrq, on='CustomerID', how='left')\n",
    "dfRFM = dfRFM.merge(trAMT02, on='CustomerID', how='left')\n",
    "dfRFM.head()"
   ]
  },
  {
   "cell_type": "code",
   "execution_count": 15,
   "metadata": {},
   "outputs": [
    {
     "name": "stdout",
     "output_type": "stream",
     "text": [
      "any missing? 0\n"
     ]
    },
    {
     "data": {
      "text/plain": [
       "Text(0, 0.5, 'Amount')"
      ]
     },
     "execution_count": 15,
     "metadata": {},
     "output_type": "execute_result"
    },
    {
     "data": {
      "image/png": "[encoded data removed]",
      "text/plain": [
       "<Figure size 432x288 with 1 Axes>"
      ]
     },
     "metadata": {
      "needs_background": "light"
     },
     "output_type": "display_data"
    }
   ],
   "source": [
    "# check if any missing\n",
    "print('any missing?', dfRFM.isna().any().sum())\n",
    "\n",
    "# check distribution\n",
    "plt.scatter(dfRFM.Frq, dfRFM.AMT, alpha=0.2, s=10)\n",
    "plt.xlabel('Frequency')\n",
    "plt.ylabel('Amount')"
   ]
  },
  {
   "cell_type": "code",
   "execution_count": 16,
   "metadata": {},
   "outputs": [
    {
     "data": {
      "image/png": "[encoded data removed]",
      "text/plain": [
       "<Figure size 432x288 with 1 Axes>"
      ]
     },
     "metadata": {
      "needs_background": "light"
     },
     "output_type": "display_data"
    }
   ],
   "source": [
    "# check if any outlier\n",
    "\n",
    "plt.boxplot([mnmx_scl(dfRFM.Frq), mnmx_scl(dfRFM.AMT)]);\n",
    "\n",
    "# 스케일링 없이 그려보면??"
   ]
  },
  {
   "cell_type": "code",
   "execution_count": 17,
   "metadata": {},
   "outputs": [
    {
     "data": {
      "text/plain": [
       "Text(0, 0.5, 'Amount')"
      ]
     },
     "execution_count": 17,
     "metadata": {},
     "output_type": "execute_result"
    },
    {
     "data": {
      "image/png": "[encoded data removed]",
      "text/plain": [
       "<Figure size 432x288 with 1 Axes>"
      ]
     },
     "metadata": {
      "needs_background": "light"
     },
     "output_type": "display_data"
    }
   ],
   "source": [
    "# 임시로 금액을 대체한 후 분포 확인\n",
    "\n",
    "dfRFM1 = dfRFM\n",
    "dfRFM1['AMT'] = np.where(dfRFM1.AMT>50000, 50000, dfRFM1.AMT)\n",
    "dfRFM1['Frq'] = np.where(dfRFM1.Frq>36, 36, dfRFM1.Frq)\n",
    "\n",
    "plt.scatter(rjitt(dfRFM1.Frq), dfRFM1.AMT, alpha=0.1, s=20)\n",
    "\n",
    "# 다항회귀분석 (polynomial regression) 보조선 추가\n",
    "plt.plot(np.unique(dfRFM1.Frq), np.poly1d(np.polyfit(dfRFM1.Frq, dfRFM1.AMT, 3))(np.unique(dfRFM1.Frq)), \n",
    "         color='silver', linewidth=6, alpha=0.4, )\n",
    "plt.xlabel('Frequency')\n",
    "plt.ylabel('Amount')"
   ]
  },
  {
   "cell_type": "code",
   "execution_count": 18,
   "metadata": {},
   "outputs": [
    {
     "name": "stdout",
     "output_type": "stream",
     "text": [
      "(4294, 3)\n"
     ]
    },
    {
     "data": {
      "text/html": [
       "<div>\n",
       "<style scoped>\n",
       "    .dataframe tbody tr th:only-of-type {\n",
       "        vertical-align: middle;\n",
       "    }\n",
       "\n",
       "    .dataframe tbody tr th {\n",
       "        vertical-align: top;\n",
       "    }\n",
       "\n",
       "    .dataframe thead th {\n",
       "        text-align: right;\n",
       "    }\n",
       "</style>\n",
       "<table border=\"1\" class=\"dataframe\">\n",
       "  <thead>\n",
       "    <tr style=\"text-align: right;\">\n",
       "      <th></th>\n",
       "      <th>CustomerID</th>\n",
       "      <th>date</th>\n",
       "      <th>dated</th>\n",
       "    </tr>\n",
       "  </thead>\n",
       "  <tbody>\n",
       "    <tr>\n",
       "      <th>4289</th>\n",
       "      <td>18280.0</td>\n",
       "      <td>2011-03-07</td>\n",
       "      <td>2011-03-07</td>\n",
       "    </tr>\n",
       "    <tr>\n",
       "      <th>4290</th>\n",
       "      <td>18281.0</td>\n",
       "      <td>2011-06-12</td>\n",
       "      <td>2011-06-12</td>\n",
       "    </tr>\n",
       "    <tr>\n",
       "      <th>4291</th>\n",
       "      <td>18282.0</td>\n",
       "      <td>2011-08-05</td>\n",
       "      <td>2011-08-05</td>\n",
       "    </tr>\n",
       "    <tr>\n",
       "      <th>4292</th>\n",
       "      <td>18283.0</td>\n",
       "      <td>2011-11-30</td>\n",
       "      <td>2011-11-30</td>\n",
       "    </tr>\n",
       "    <tr>\n",
       "      <th>4293</th>\n",
       "      <td>18287.0</td>\n",
       "      <td>2011-10-28</td>\n",
       "      <td>2011-10-28</td>\n",
       "    </tr>\n",
       "  </tbody>\n",
       "</table>\n",
       "</div>"
      ],
      "text/plain": [
       "      CustomerID        date      dated\n",
       "4289     18280.0  2011-03-07 2011-03-07\n",
       "4290     18281.0  2011-06-12 2011-06-12\n",
       "4291     18282.0  2011-08-05 2011-08-05\n",
       "4292     18283.0  2011-11-30 2011-11-30\n",
       "4293     18287.0  2011-10-28 2011-10-28"
      ]
     },
     "execution_count": 18,
     "metadata": {},
     "output_type": "execute_result"
    }
   ],
   "source": [
    "# Recency 계산 - 마지막 거래가 있었던 것이 얼마나 떨어져 있는가\n",
    "# Recency는 still active? 를 나타내는 변수\n",
    "\n",
    "\n",
    "tr02ar = tr02a[['CustomerID', 'date']]\n",
    "# 계산 가능하도록 date 타입으로 변경\n",
    "tr02ar['dated'] = pd.to_datetime(tr02ar['date'])\n",
    "tr02ar = tr02ar.drop_duplicates()\n",
    "\n",
    "# 고객별 마지막 거래일 산출 - 마지막 날은 가장 큰 날짜값\n",
    "tr02ar = tr02ar.groupby('CustomerID').max().reset_index()\n",
    "print(tr02ar.shape)\n",
    "tr02ar.tail()"
   ]
  },
  {
   "cell_type": "code",
   "execution_count": 19,
   "metadata": {},
   "outputs": [
    {
     "data": {
      "text/plain": [
       "[<matplotlib.lines.Line2D at 0x1df0fbc4f70>]"
      ]
     },
     "execution_count": 19,
     "metadata": {},
     "output_type": "execute_result"
    },
    {
     "data": {
      "image/png": "[encoded data removed]",
      "text/plain": [
       "<Figure size 432x288 with 1 Axes>"
      ]
     },
     "metadata": {
      "needs_background": "light"
     },
     "output_type": "display_data"
    }
   ],
   "source": [
    "# 마지막 거래일 분포\n",
    "# string 타입인 경우라면 \n",
    "plt.plot(tr02ar.drop_duplicates().date.sort_values())"
   ]
  },
  {
   "cell_type": "code",
   "execution_count": 20,
   "metadata": {},
   "outputs": [
    {
     "data": {
      "text/plain": [
       "<matplotlib.axes._subplots.AxesSubplot at 0x1df0fd75610>"
      ]
     },
     "execution_count": 20,
     "metadata": {},
     "output_type": "execute_result"
    },
    {
     "data": {
      "image/png": "[encoded data removed]",
      "text/plain": [
       "<Figure size 432x288 with 1 Axes>"
      ]
     },
     "metadata": {
      "needs_background": "light"
     },
     "output_type": "display_data"
    }
   ],
   "source": [
    "# 마지막날이 최근에 가까운 경우가 많은 것이 당연\n",
    "\n",
    "tr02ar.dated.hist()"
   ]
  },
  {
   "cell_type": "code",
   "execution_count": 21,
   "metadata": {},
   "outputs": [
    {
     "data": {
      "text/html": [
       "<div>\n",
       "<style scoped>\n",
       "    .dataframe tbody tr th:only-of-type {\n",
       "        vertical-align: middle;\n",
       "    }\n",
       "\n",
       "    .dataframe tbody tr th {\n",
       "        vertical-align: top;\n",
       "    }\n",
       "\n",
       "    .dataframe thead th {\n",
       "        text-align: right;\n",
       "    }\n",
       "</style>\n",
       "<table border=\"1\" class=\"dataframe\">\n",
       "  <thead>\n",
       "    <tr style=\"text-align: right;\">\n",
       "      <th></th>\n",
       "      <th>CustomerID</th>\n",
       "      <th>date</th>\n",
       "      <th>dated</th>\n",
       "      <th>lastday</th>\n",
       "      <th>recency</th>\n",
       "    </tr>\n",
       "  </thead>\n",
       "  <tbody>\n",
       "    <tr>\n",
       "      <th>0</th>\n",
       "      <td>12346.0</td>\n",
       "      <td>2011-01-18</td>\n",
       "      <td>2011-01-18</td>\n",
       "      <td>2011-12-01</td>\n",
       "      <td>-317</td>\n",
       "    </tr>\n",
       "    <tr>\n",
       "      <th>1</th>\n",
       "      <td>12347.0</td>\n",
       "      <td>2011-10-31</td>\n",
       "      <td>2011-10-31</td>\n",
       "      <td>2011-12-01</td>\n",
       "      <td>-31</td>\n",
       "    </tr>\n",
       "    <tr>\n",
       "      <th>2</th>\n",
       "      <td>12348.0</td>\n",
       "      <td>2011-09-25</td>\n",
       "      <td>2011-09-25</td>\n",
       "      <td>2011-12-01</td>\n",
       "      <td>-67</td>\n",
       "    </tr>\n",
       "    <tr>\n",
       "      <th>3</th>\n",
       "      <td>12349.0</td>\n",
       "      <td>2011-11-21</td>\n",
       "      <td>2011-11-21</td>\n",
       "      <td>2011-12-01</td>\n",
       "      <td>-10</td>\n",
       "    </tr>\n",
       "    <tr>\n",
       "      <th>4</th>\n",
       "      <td>12350.0</td>\n",
       "      <td>2011-02-02</td>\n",
       "      <td>2011-02-02</td>\n",
       "      <td>2011-12-01</td>\n",
       "      <td>-302</td>\n",
       "    </tr>\n",
       "  </tbody>\n",
       "</table>\n",
       "</div>"
      ],
      "text/plain": [
       "   CustomerID        date      dated    lastday  recency\n",
       "0     12346.0  2011-01-18 2011-01-18 2011-12-01     -317\n",
       "1     12347.0  2011-10-31 2011-10-31 2011-12-01      -31\n",
       "2     12348.0  2011-09-25 2011-09-25 2011-12-01      -67\n",
       "3     12349.0  2011-11-21 2011-11-21 2011-12-01      -10\n",
       "4     12350.0  2011-02-02 2011-02-02 2011-12-01     -302"
      ]
     },
     "execution_count": 21,
     "metadata": {},
     "output_type": "execute_result"
    }
   ],
   "source": [
    "# 기간의 마지막과 고객별 마지막 거래한 날과의 거리 계산\n",
    "\n",
    "tr02ar['lastday'] = '2011-12-01' \n",
    "# 전날을 기준으로 삼으면 마지막날 구매시 -1\n",
    "tr02ar['lastday'] = pd.to_datetime(tr02ar['lastday'])\n",
    "\n",
    "tr02ar['recency'] = tr02ar['dated'] - tr02ar['lastday']\n",
    "# 음수가 되도록 한 이유는 간격이 클 수록 미래 구매가능성이 낮을 것으로 예상되기 때문\n",
    "# 금액과 빈도와는 방향성이 다름\n",
    "tr02ar['recency'] = (tr02ar['recency'] / np.timedelta64(1, 'D')).astype(int)\n",
    "tr02ar.head()"
   ]
  },
  {
   "cell_type": "code",
   "execution_count": 22,
   "metadata": {},
   "outputs": [
    {
     "data": {
      "text/plain": [
       "Text(0.5, 0, 'recency')"
      ]
     },
     "execution_count": 22,
     "metadata": {},
     "output_type": "execute_result"
    },
    {
     "data": {
      "image/png": "[encoded data removed]",
      "text/plain": [
       "<Figure size 432x288 with 1 Axes>"
      ]
     },
     "metadata": {
      "needs_background": "light"
     },
     "output_type": "display_data"
    }
   ],
   "source": [
    "tr02ar.recency.hist()\n",
    "plt.xlabel('recency')"
   ]
  },
  {
   "cell_type": "code",
   "execution_count": 23,
   "metadata": {},
   "outputs": [
    {
     "data": {
      "text/html": [
       "<div>\n",
       "<style scoped>\n",
       "    .dataframe tbody tr th:only-of-type {\n",
       "        vertical-align: middle;\n",
       "    }\n",
       "\n",
       "    .dataframe tbody tr th {\n",
       "        vertical-align: top;\n",
       "    }\n",
       "\n",
       "    .dataframe thead th {\n",
       "        text-align: right;\n",
       "    }\n",
       "</style>\n",
       "<table border=\"1\" class=\"dataframe\">\n",
       "  <thead>\n",
       "    <tr style=\"text-align: right;\">\n",
       "      <th></th>\n",
       "      <th>CustomerID</th>\n",
       "      <th>Frq</th>\n",
       "      <th>AMT</th>\n",
       "      <th>recency</th>\n",
       "    </tr>\n",
       "  </thead>\n",
       "  <tbody>\n",
       "    <tr>\n",
       "      <th>0</th>\n",
       "      <td>17850.0</td>\n",
       "      <td>2</td>\n",
       "      <td>5391.21</td>\n",
       "      <td>-364</td>\n",
       "    </tr>\n",
       "    <tr>\n",
       "      <th>1</th>\n",
       "      <td>13047.0</td>\n",
       "      <td>7</td>\n",
       "      <td>3232.59</td>\n",
       "      <td>-48</td>\n",
       "    </tr>\n",
       "    <tr>\n",
       "      <th>2</th>\n",
       "      <td>12583.0</td>\n",
       "      <td>14</td>\n",
       "      <td>6064.61</td>\n",
       "      <td>-10</td>\n",
       "    </tr>\n",
       "    <tr>\n",
       "      <th>3</th>\n",
       "      <td>13748.0</td>\n",
       "      <td>4</td>\n",
       "      <td>948.25</td>\n",
       "      <td>-87</td>\n",
       "    </tr>\n",
       "    <tr>\n",
       "      <th>4</th>\n",
       "      <td>15100.0</td>\n",
       "      <td>3</td>\n",
       "      <td>876.00</td>\n",
       "      <td>-325</td>\n",
       "    </tr>\n",
       "  </tbody>\n",
       "</table>\n",
       "</div>"
      ],
      "text/plain": [
       "   CustomerID  Frq      AMT  recency\n",
       "0     17850.0    2  5391.21     -364\n",
       "1     13047.0    7  3232.59      -48\n",
       "2     12583.0   14  6064.61      -10\n",
       "3     13748.0    4   948.25      -87\n",
       "4     15100.0    3   876.00     -325"
      ]
     },
     "execution_count": 23,
     "metadata": {},
     "output_type": "execute_result"
    }
   ],
   "source": [
    "# recency 까지 결합해서 RFM predictor set 완성\n",
    "\n",
    "dfRFM = dfRFM.merge(tr02ar[['CustomerID','recency']], on='CustomerID', how='left')\n",
    "dfRFM.head()"
   ]
  },
  {
   "cell_type": "code",
   "execution_count": 24,
   "metadata": {},
   "outputs": [],
   "source": [
    "# target variable 생성\n",
    "\n",
    "#  다음 1개월분 데이터 포함\n",
    "tr02b = tr02[(tr02.date>='2011-12-01') & (tr02.date<='2012-12-31')] \n",
    "# 참고: 실제 데이터에는 한 달치 데이터가 다 존재하지는 않음"
   ]
  },
  {
   "cell_type": "code",
   "execution_count": 25,
   "metadata": {},
   "outputs": [
    {
     "data": {
      "text/plain": [
       "<matplotlib.axes._subplots.AxesSubplot at 0x1df16542580>"
      ]
     },
     "execution_count": 25,
     "metadata": {},
     "output_type": "execute_result"
    },
    {
     "data": {
      "image/png": "[encoded data removed]",
      "text/plain": [
       "<Figure size 432x288 with 1 Axes>"
      ]
     },
     "metadata": {
      "needs_background": "light"
     },
     "output_type": "display_data"
    }
   ],
   "source": [
    "tr02b.date.hist()"
   ]
  },
  {
   "cell_type": "code",
   "execution_count": 26,
   "metadata": {},
   "outputs": [
    {
     "data": {
      "text/html": [
       "<div>\n",
       "<style scoped>\n",
       "    .dataframe tbody tr th:only-of-type {\n",
       "        vertical-align: middle;\n",
       "    }\n",
       "\n",
       "    .dataframe tbody tr th {\n",
       "        vertical-align: top;\n",
       "    }\n",
       "\n",
       "    .dataframe thead th {\n",
       "        text-align: right;\n",
       "    }\n",
       "</style>\n",
       "<table border=\"1\" class=\"dataframe\">\n",
       "  <thead>\n",
       "    <tr style=\"text-align: right;\">\n",
       "      <th></th>\n",
       "      <th>CustomerID</th>\n",
       "      <th>AMT</th>\n",
       "    </tr>\n",
       "  </thead>\n",
       "  <tbody>\n",
       "    <tr>\n",
       "      <th>0</th>\n",
       "      <td>12347.0</td>\n",
       "      <td>224.82</td>\n",
       "    </tr>\n",
       "    <tr>\n",
       "      <th>1</th>\n",
       "      <td>12358.0</td>\n",
       "      <td>523.20</td>\n",
       "    </tr>\n",
       "    <tr>\n",
       "      <th>2</th>\n",
       "      <td>12362.0</td>\n",
       "      <td>475.04</td>\n",
       "    </tr>\n",
       "    <tr>\n",
       "      <th>3</th>\n",
       "      <td>12364.0</td>\n",
       "      <td>295.32</td>\n",
       "    </tr>\n",
       "    <tr>\n",
       "      <th>4</th>\n",
       "      <td>12367.0</td>\n",
       "      <td>150.90</td>\n",
       "    </tr>\n",
       "  </tbody>\n",
       "</table>\n",
       "</div>"
      ],
      "text/plain": [
       "   CustomerID     AMT\n",
       "0     12347.0  224.82\n",
       "1     12358.0  523.20\n",
       "2     12362.0  475.04\n",
       "3     12364.0  295.32\n",
       "4     12367.0  150.90"
      ]
     },
     "execution_count": 26,
     "metadata": {},
     "output_type": "execute_result"
    }
   ],
   "source": [
    "# 기간이 달라졌으나 금액집계는 같은 방식으로\n",
    "# 수량에 단가를 곱한 후 고객별 합계 생성\n",
    "\n",
    "trAMTb01 = tr02b[['CustomerID', 'Quantity', 'UnitPrice']]\n",
    "trAMTb01['Amount'] = tr02b.Quantity * tr02b.UnitPrice\n",
    "trAMTb02 = trAMTb01[['CustomerID', 'Amount']].groupby('CustomerID').sum().reset_index()\n",
    "trAMTb02.columns = ['CustomerID', 'AMT']\n",
    "trAMTb02.head()"
   ]
  },
  {
   "cell_type": "code",
   "execution_count": 27,
   "metadata": {},
   "outputs": [
    {
     "data": {
      "text/html": [
       "<div>\n",
       "<style scoped>\n",
       "    .dataframe tbody tr th:only-of-type {\n",
       "        vertical-align: middle;\n",
       "    }\n",
       "\n",
       "    .dataframe tbody tr th {\n",
       "        vertical-align: top;\n",
       "    }\n",
       "\n",
       "    .dataframe thead th {\n",
       "        text-align: right;\n",
       "    }\n",
       "</style>\n",
       "<table border=\"1\" class=\"dataframe\">\n",
       "  <thead>\n",
       "    <tr style=\"text-align: right;\">\n",
       "      <th></th>\n",
       "      <th>CustomerID</th>\n",
       "      <th>Frq</th>\n",
       "      <th>AMT</th>\n",
       "      <th>recency</th>\n",
       "      <th>AMTnm</th>\n",
       "    </tr>\n",
       "  </thead>\n",
       "  <tbody>\n",
       "    <tr>\n",
       "      <th>0</th>\n",
       "      <td>17850.0</td>\n",
       "      <td>2</td>\n",
       "      <td>5391.21</td>\n",
       "      <td>-364</td>\n",
       "      <td>NaN</td>\n",
       "    </tr>\n",
       "    <tr>\n",
       "      <th>1</th>\n",
       "      <td>13047.0</td>\n",
       "      <td>7</td>\n",
       "      <td>3232.59</td>\n",
       "      <td>-48</td>\n",
       "      <td>NaN</td>\n",
       "    </tr>\n",
       "    <tr>\n",
       "      <th>2</th>\n",
       "      <td>12583.0</td>\n",
       "      <td>14</td>\n",
       "      <td>6064.61</td>\n",
       "      <td>-10</td>\n",
       "      <td>640.77</td>\n",
       "    </tr>\n",
       "    <tr>\n",
       "      <th>3</th>\n",
       "      <td>13748.0</td>\n",
       "      <td>4</td>\n",
       "      <td>948.25</td>\n",
       "      <td>-87</td>\n",
       "      <td>NaN</td>\n",
       "    </tr>\n",
       "    <tr>\n",
       "      <th>4</th>\n",
       "      <td>15100.0</td>\n",
       "      <td>3</td>\n",
       "      <td>876.00</td>\n",
       "      <td>-325</td>\n",
       "      <td>NaN</td>\n",
       "    </tr>\n",
       "  </tbody>\n",
       "</table>\n",
       "</div>"
      ],
      "text/plain": [
       "   CustomerID  Frq      AMT  recency   AMTnm\n",
       "0     17850.0    2  5391.21     -364     NaN\n",
       "1     13047.0    7  3232.59      -48     NaN\n",
       "2     12583.0   14  6064.61      -10  640.77\n",
       "3     13748.0    4   948.25      -87     NaN\n",
       "4     15100.0    3   876.00     -325     NaN"
      ]
     },
     "execution_count": 27,
     "metadata": {},
     "output_type": "execute_result"
    }
   ],
   "source": [
    "# 독립변수만 존재하는 df에 타겟 추가\n",
    "\n",
    "trAMTb02.columns = ['CustomerID', 'AMTnm']\n",
    "dfRFM = dfRFM.merge(trAMTb02, on='CustomerID', how='left')\n",
    "dfRFM.head()"
   ]
  },
  {
   "cell_type": "code",
   "execution_count": 28,
   "metadata": {},
   "outputs": [
    {
     "data": {
      "text/html": [
       "<div>\n",
       "<style scoped>\n",
       "    .dataframe tbody tr th:only-of-type {\n",
       "        vertical-align: middle;\n",
       "    }\n",
       "\n",
       "    .dataframe tbody tr th {\n",
       "        vertical-align: top;\n",
       "    }\n",
       "\n",
       "    .dataframe thead th {\n",
       "        text-align: right;\n",
       "    }\n",
       "</style>\n",
       "<table border=\"1\" class=\"dataframe\">\n",
       "  <thead>\n",
       "    <tr style=\"text-align: right;\">\n",
       "      <th></th>\n",
       "      <th>CustomerID</th>\n",
       "      <th>Frq</th>\n",
       "      <th>AMT</th>\n",
       "      <th>recency</th>\n",
       "      <th>AMTnm</th>\n",
       "    </tr>\n",
       "  </thead>\n",
       "  <tbody>\n",
       "    <tr>\n",
       "      <th>0</th>\n",
       "      <td>17850.0</td>\n",
       "      <td>2</td>\n",
       "      <td>5391.21</td>\n",
       "      <td>-364</td>\n",
       "      <td>0.00</td>\n",
       "    </tr>\n",
       "    <tr>\n",
       "      <th>1</th>\n",
       "      <td>13047.0</td>\n",
       "      <td>7</td>\n",
       "      <td>3232.59</td>\n",
       "      <td>-48</td>\n",
       "      <td>0.00</td>\n",
       "    </tr>\n",
       "    <tr>\n",
       "      <th>2</th>\n",
       "      <td>12583.0</td>\n",
       "      <td>14</td>\n",
       "      <td>6064.61</td>\n",
       "      <td>-10</td>\n",
       "      <td>640.77</td>\n",
       "    </tr>\n",
       "    <tr>\n",
       "      <th>3</th>\n",
       "      <td>13748.0</td>\n",
       "      <td>4</td>\n",
       "      <td>948.25</td>\n",
       "      <td>-87</td>\n",
       "      <td>0.00</td>\n",
       "    </tr>\n",
       "    <tr>\n",
       "      <th>4</th>\n",
       "      <td>15100.0</td>\n",
       "      <td>3</td>\n",
       "      <td>876.00</td>\n",
       "      <td>-325</td>\n",
       "      <td>0.00</td>\n",
       "    </tr>\n",
       "  </tbody>\n",
       "</table>\n",
       "</div>"
      ],
      "text/plain": [
       "   CustomerID  Frq      AMT  recency   AMTnm\n",
       "0     17850.0    2  5391.21     -364    0.00\n",
       "1     13047.0    7  3232.59      -48    0.00\n",
       "2     12583.0   14  6064.61      -10  640.77\n",
       "3     13748.0    4   948.25      -87    0.00\n",
       "4     15100.0    3   876.00     -325    0.00"
      ]
     },
     "execution_count": 28,
     "metadata": {},
     "output_type": "execute_result"
    }
   ],
   "source": [
    "# 다수의 NaN 값들은 해당기간 거래가 없었다는 의미이므로\n",
    "# 금액을 0으로 대체\n",
    "\n",
    "dfRFM.AMTnm = np.where(dfRFM.AMTnm.isna(), 0, dfRFM.AMTnm)\n",
    "dfRFM.head()\n",
    "\n",
    "# CustomerID should be a string column"
   ]
  },
  {
   "cell_type": "code",
   "execution_count": 29,
   "metadata": {},
   "outputs": [
    {
     "data": {
      "text/html": [
       "<div>\n",
       "<style scoped>\n",
       "    .dataframe tbody tr th:only-of-type {\n",
       "        vertical-align: middle;\n",
       "    }\n",
       "\n",
       "    .dataframe tbody tr th {\n",
       "        vertical-align: top;\n",
       "    }\n",
       "\n",
       "    .dataframe thead th {\n",
       "        text-align: right;\n",
       "    }\n",
       "</style>\n",
       "<table border=\"1\" class=\"dataframe\">\n",
       "  <thead>\n",
       "    <tr style=\"text-align: right;\">\n",
       "      <th></th>\n",
       "      <th>CustomerID</th>\n",
       "      <th>Frq</th>\n",
       "      <th>AMT</th>\n",
       "      <th>recency</th>\n",
       "      <th>AMTnm</th>\n",
       "    </tr>\n",
       "  </thead>\n",
       "  <tbody>\n",
       "    <tr>\n",
       "      <th>0</th>\n",
       "      <td>17850</td>\n",
       "      <td>2</td>\n",
       "      <td>5391.21</td>\n",
       "      <td>-364</td>\n",
       "      <td>0.00</td>\n",
       "    </tr>\n",
       "    <tr>\n",
       "      <th>1</th>\n",
       "      <td>13047</td>\n",
       "      <td>7</td>\n",
       "      <td>3232.59</td>\n",
       "      <td>-48</td>\n",
       "      <td>0.00</td>\n",
       "    </tr>\n",
       "    <tr>\n",
       "      <th>2</th>\n",
       "      <td>12583</td>\n",
       "      <td>14</td>\n",
       "      <td>6064.61</td>\n",
       "      <td>-10</td>\n",
       "      <td>640.77</td>\n",
       "    </tr>\n",
       "    <tr>\n",
       "      <th>3</th>\n",
       "      <td>13748</td>\n",
       "      <td>4</td>\n",
       "      <td>948.25</td>\n",
       "      <td>-87</td>\n",
       "      <td>0.00</td>\n",
       "    </tr>\n",
       "    <tr>\n",
       "      <th>4</th>\n",
       "      <td>15100</td>\n",
       "      <td>3</td>\n",
       "      <td>876.00</td>\n",
       "      <td>-325</td>\n",
       "      <td>0.00</td>\n",
       "    </tr>\n",
       "  </tbody>\n",
       "</table>\n",
       "</div>"
      ],
      "text/plain": [
       "  CustomerID  Frq      AMT  recency   AMTnm\n",
       "0      17850    2  5391.21     -364    0.00\n",
       "1      13047    7  3232.59      -48    0.00\n",
       "2      12583   14  6064.61      -10  640.77\n",
       "3      13748    4   948.25      -87    0.00\n",
       "4      15100    3   876.00     -325    0.00"
      ]
     },
     "execution_count": 29,
     "metadata": {},
     "output_type": "execute_result"
    }
   ],
   "source": [
    "# 정수형태의 문자열로 변경\n",
    "\n",
    "dfRFM.CustomerID = dfRFM.CustomerID.astype(float).astype(int).astype(str)\n",
    "dfRFM.head()"
   ]
  },
  {
   "cell_type": "code",
   "execution_count": 30,
   "metadata": {},
   "outputs": [
    {
     "data": {
      "text/plain": [
       "0"
      ]
     },
     "execution_count": 30,
     "metadata": {},
     "output_type": "execute_result"
    }
   ],
   "source": [
    "# check if any missing again\n",
    "\n",
    "dfRFM.isna().any().sum()"
   ]
  },
  {
   "cell_type": "code",
   "execution_count": 31,
   "metadata": {},
   "outputs": [
    {
     "data": {
      "image/png": "[encoded data removed]",
      "text/plain": [
       "<Figure size 432x288 with 1 Axes>"
      ]
     },
     "metadata": {
      "needs_background": "light"
     },
     "output_type": "display_data"
    },
    {
     "data": {
      "image/png": "[encoded data removed]",
      "text/plain": [
       "<Figure size 432x288 with 1 Axes>"
      ]
     },
     "metadata": {
      "needs_background": "light"
     },
     "output_type": "display_data"
    },
    {
     "data": {
      "image/png": "[encoded data removed]",
      "text/plain": [
       "<Figure size 432x288 with 1 Axes>"
      ]
     },
     "metadata": {
      "needs_background": "light"
     },
     "output_type": "display_data"
    }
   ],
   "source": [
    "predictors = ['Frq','AMT', 'recency']\n",
    "\n",
    "for x in predictors:\n",
    "    plt.scatter(rjitt(dfRFM[x]), dfRFM.AMTnm, alpha=0.2, s=10)\n",
    "    plt.xlabel(x)\n",
    "    plt.ylabel('Target: AMT Next Month ')\n",
    "    # 너무 큰 값들은 무시하고 다수의 패턴을 보기 위해 영역 한정\n",
    "    plt.ylim(-500,5000)\n",
    "    plt.show()"
   ]
  },
  {
   "cell_type": "code",
   "execution_count": 32,
   "metadata": {},
   "outputs": [
    {
     "data": {
      "image/png": "[encoded data removed]",
      "text/plain": [
       "<Figure size 432x288 with 1 Axes>"
      ]
     },
     "metadata": {
      "needs_background": "light"
     },
     "output_type": "display_data"
    }
   ],
   "source": [
    "plt.plot(dfRFM.AMTnm)\n",
    "plt.ylim(0,10000) # outlier로 보이는 영역을 무시하고 출력\n",
    "plt.show()"
   ]
  },
  {
   "cell_type": "code",
   "execution_count": 33,
   "metadata": {},
   "outputs": [
    {
     "data": {
      "text/plain": [
       "(0.06018233264050521, 0.0917041331223569)"
      ]
     },
     "execution_count": 33,
     "metadata": {},
     "output_type": "execute_result"
    }
   ],
   "source": [
    "np.corrcoef(dfRFM.Frq, dfRFM.AMTnm)[0,1], np.corrcoef(dfRFM.AMT, dfRFM.AMTnm)[0,1]"
   ]
  },
  {
   "cell_type": "code",
   "execution_count": 34,
   "metadata": {},
   "outputs": [
    {
     "data": {
      "image/png": "[encoded data removed]",
      "text/plain": [
       "<Figure size 432x288 with 1 Axes>"
      ]
     },
     "metadata": {
      "needs_background": "light"
     },
     "output_type": "display_data"
    }
   ],
   "source": [
    "colors1 = ['red' if x>100 else 'grey' for x in dfRFM.AMTnm]\n",
    "plt.scatter(rjitt(dfRFM.Frq), dfRFM.AMT, \n",
    "            alpha=0.15, s=20,\n",
    "           color=colors1)\n",
    "plt.title('where is the hot spot?')\n",
    "plt.xlabel('Frequency')\n",
    "plt.ylabel('Amount');"
   ]
  },
  {
   "cell_type": "code",
   "execution_count": 35,
   "metadata": {},
   "outputs": [
    {
     "data": {
      "image/png": "[encoded data removed]",
      "text/plain": [
       "<Figure size 1120x480 with 1 Axes>"
      ]
     },
     "metadata": {
      "needs_background": "light"
     },
     "output_type": "display_data"
    }
   ],
   "source": [
    "# use decision tree for visual inspection \n",
    "\n",
    "from sklearn.tree import DecisionTreeRegressor \n",
    "from sklearn import tree\n",
    "\n",
    "clf = DecisionTreeRegressor(max_depth = 4, min_samples_leaf=20,\n",
    "                             random_state = 0)\n",
    "features = ['Frq', 'AMT', 'recency']\n",
    "dt1 = clf.fit(dfRFM[features], dfRFM.AMTnm)\n",
    "\n",
    "# plotting tree using sklearn (i.e. not using GraphViz)\n",
    "# GraphViz 를 사용하는 방법이 좀 더 깔끔한 결과를 주지만\n",
    "# 설정 오류가 잦아서 오류시엔 sklearn plot_tree 로\n",
    "\n",
    "plt.figure(figsize=(14,6), dpi=80)\n",
    "tree.plot_tree(dt1, feature_names=features, \n",
    "               filled=True, fontsize=12, precision=2)\n",
    "\n",
    "plt.title('decision tree for sample RFM modeling (B2B etail)');"
   ]
  },
  {
   "cell_type": "code",
   "execution_count": 36,
   "metadata": {},
   "outputs": [
    {
     "data": {
      "text/plain": [
       "<matplotlib.lines.Line2D at 0x1df1f11f700>"
      ]
     },
     "execution_count": 36,
     "metadata": {},
     "output_type": "execute_result"
    },
    {
     "data": {
      "image/png": "[encoded data removed]",
      "text/plain": [
       "<Figure size 432x288 with 1 Axes>"
      ]
     },
     "metadata": {
      "needs_background": "light"
     },
     "output_type": "display_data"
    }
   ],
   "source": [
    "colors1 = ['red' if x>100 else 'grey' for x in dfRFM.AMTnm]\n",
    "plt.scatter(rjitt(dfRFM.Frq), dfRFM.AMT, \n",
    "            alpha=0.15, s=20,\n",
    "           color=colors1)\n",
    "plt.title('where is the hot spot?')\n",
    "plt.xlabel('Frequency')\n",
    "plt.ylabel('Amount')\n",
    "plt.axvline(18.5, linestyle='dotted')\n",
    "plt.axhline(43295, linestyle='dotted')"
   ]
  },
  {
   "cell_type": "code",
   "execution_count": 37,
   "metadata": {},
   "outputs": [
    {
     "data": {
      "image/png": "[encoded data removed]",
      "text/plain": [
       "<Figure size 432x288 with 1 Axes>"
      ]
     },
     "metadata": {
      "needs_background": "light"
     },
     "output_type": "display_data"
    },
    {
     "data": {
      "text/plain": [
       "('correlation : ', 0.35233708071124603)"
      ]
     },
     "execution_count": 37,
     "metadata": {},
     "output_type": "execute_result"
    }
   ],
   "source": [
    "colors1 = ['red' if x>100 else 'grey' for x in dfRFM.AMTnm]\n",
    "plt.scatter(rjitt(dfRFM.Frq), dfRFM.recency, \n",
    "            alpha=0.15, s=20,\n",
    "           color=colors1)\n",
    "plt.title('where is the hot spot?')\n",
    "plt.xlabel('Frequency')\n",
    "plt.ylabel('recency')\n",
    "plt.axvline(18.5, linestyle='dotted')\n",
    "plt.show()\n",
    "\n",
    "'correlation : ', np.corrcoef(dfRFM.Frq, dfRFM.recency)[0,1]"
   ]
  },
  {
   "cell_type": "code",
   "execution_count": 38,
   "metadata": {},
   "outputs": [
    {
     "data": {
      "text/plain": [
       "<matplotlib.collections.PathCollection at 0x1df1f5807c0>"
      ]
     },
     "execution_count": 38,
     "metadata": {},
     "output_type": "execute_result"
    },
    {
     "data": {
      "image/png": "[encoded data removed]",
      "text/plain": [
       "<Figure size 432x288 with 1 Axes>"
      ]
     },
     "metadata": {
      "needs_background": "light"
     },
     "output_type": "display_data"
    }
   ],
   "source": [
    "tmpdf = dfRFM[(dfRFM.AMTnm<100000) & (dfRFM.Frq > 2)]\n",
    "plt.scatter((tmpdf.recency / tmpdf.Frq), tmpdf.AMTnm,\n",
    "           s=10, alpha=0.1)"
   ]
  },
  {
   "cell_type": "markdown",
   "metadata": {},
   "source": [
    "### Filtering out Irrelevant Records"
   ]
  },
  {
   "cell_type": "code",
   "execution_count": 39,
   "metadata": {},
   "outputs": [
    {
     "data": {
      "text/html": [
       "<div>\n",
       "<style scoped>\n",
       "    .dataframe tbody tr th:only-of-type {\n",
       "        vertical-align: middle;\n",
       "    }\n",
       "\n",
       "    .dataframe tbody tr th {\n",
       "        vertical-align: top;\n",
       "    }\n",
       "\n",
       "    .dataframe thead th {\n",
       "        text-align: right;\n",
       "    }\n",
       "</style>\n",
       "<table border=\"1\" class=\"dataframe\">\n",
       "  <thead>\n",
       "    <tr style=\"text-align: right;\">\n",
       "      <th></th>\n",
       "      <th>InvoiceNo</th>\n",
       "    </tr>\n",
       "    <tr>\n",
       "      <th>Description</th>\n",
       "      <th></th>\n",
       "    </tr>\n",
       "  </thead>\n",
       "  <tbody>\n",
       "    <tr>\n",
       "      <th>WHITE HANGING HEART T-LIGHT HOLDER</th>\n",
       "      <td>2028</td>\n",
       "    </tr>\n",
       "    <tr>\n",
       "      <th>REGENCY CAKESTAND 3 TIER</th>\n",
       "      <td>1723</td>\n",
       "    </tr>\n",
       "    <tr>\n",
       "      <th>JUMBO BAG RED RETROSPOT</th>\n",
       "      <td>1618</td>\n",
       "    </tr>\n",
       "    <tr>\n",
       "      <th>ASSORTED COLOUR BIRD ORNAMENT</th>\n",
       "      <td>1408</td>\n",
       "    </tr>\n",
       "    <tr>\n",
       "      <th>PARTY BUNTING</th>\n",
       "      <td>1396</td>\n",
       "    </tr>\n",
       "    <tr>\n",
       "      <th>LUNCH BAG RED RETROSPOT</th>\n",
       "      <td>1316</td>\n",
       "    </tr>\n",
       "    <tr>\n",
       "      <th>SET OF 3 CAKE TINS PANTRY DESIGN</th>\n",
       "      <td>1159</td>\n",
       "    </tr>\n",
       "    <tr>\n",
       "      <th>LUNCH BAG  BLACK SKULL.</th>\n",
       "      <td>1105</td>\n",
       "    </tr>\n",
       "    <tr>\n",
       "      <th>PACK OF 72 RETROSPOT CAKE CASES</th>\n",
       "      <td>1068</td>\n",
       "    </tr>\n",
       "    <tr>\n",
       "      <th>PAPER CHAIN KIT 50'S CHRISTMAS</th>\n",
       "      <td>1019</td>\n",
       "    </tr>\n",
       "    <tr>\n",
       "      <th>SPOTTY BUNTING</th>\n",
       "      <td>1017</td>\n",
       "    </tr>\n",
       "    <tr>\n",
       "      <th>LUNCH BAG SPACEBOY DESIGN</th>\n",
       "      <td>1008</td>\n",
       "    </tr>\n",
       "    <tr>\n",
       "      <th>LUNCH BAG CARS BLUE</th>\n",
       "      <td>989</td>\n",
       "    </tr>\n",
       "    <tr>\n",
       "      <th>HEART OF WICKER SMALL</th>\n",
       "      <td>985</td>\n",
       "    </tr>\n",
       "    <tr>\n",
       "      <th>NATURAL SLATE HEART CHALKBOARD</th>\n",
       "      <td>980</td>\n",
       "    </tr>\n",
       "    <tr>\n",
       "      <th>LUNCH BAG PINK POLKADOT</th>\n",
       "      <td>957</td>\n",
       "    </tr>\n",
       "    <tr>\n",
       "      <th>REX CASH+CARRY JUMBO SHOPPER</th>\n",
       "      <td>952</td>\n",
       "    </tr>\n",
       "    <tr>\n",
       "      <th>LUNCH BAG SUKI DESIGN</th>\n",
       "      <td>933</td>\n",
       "    </tr>\n",
       "    <tr>\n",
       "      <th>ALARM CLOCK BAKELIKE RED</th>\n",
       "      <td>899</td>\n",
       "    </tr>\n",
       "    <tr>\n",
       "      <th>LUNCH BAG APPLE DESIGN</th>\n",
       "      <td>895</td>\n",
       "    </tr>\n",
       "  </tbody>\n",
       "</table>\n",
       "</div>"
      ],
      "text/plain": [
       "                                    InvoiceNo\n",
       "Description                                  \n",
       "WHITE HANGING HEART T-LIGHT HOLDER       2028\n",
       "REGENCY CAKESTAND 3 TIER                 1723\n",
       "JUMBO BAG RED RETROSPOT                  1618\n",
       "ASSORTED COLOUR BIRD ORNAMENT            1408\n",
       "PARTY BUNTING                            1396\n",
       "LUNCH BAG RED RETROSPOT                  1316\n",
       "SET OF 3 CAKE TINS PANTRY DESIGN         1159\n",
       "LUNCH BAG  BLACK SKULL.                  1105\n",
       "PACK OF 72 RETROSPOT CAKE CASES          1068\n",
       "PAPER CHAIN KIT 50'S CHRISTMAS           1019\n",
       "SPOTTY BUNTING                           1017\n",
       "LUNCH BAG SPACEBOY DESIGN                1008\n",
       "LUNCH BAG CARS BLUE                       989\n",
       "HEART OF WICKER SMALL                     985\n",
       "NATURAL SLATE HEART CHALKBOARD            980\n",
       "LUNCH BAG PINK POLKADOT                   957\n",
       "REX CASH+CARRY JUMBO SHOPPER              952\n",
       "LUNCH BAG SUKI DESIGN                     933\n",
       "ALARM CLOCK BAKELIKE RED                  899\n",
       "LUNCH BAG APPLE DESIGN                    895"
      ]
     },
     "execution_count": 39,
     "metadata": {},
     "output_type": "execute_result"
    }
   ],
   "source": [
    "tr02[['InvoiceNo', 'Description']].groupby('Description').count().sort_values('InvoiceNo', ascending=False).head(20)"
   ]
  },
  {
   "cell_type": "code",
   "execution_count": 40,
   "metadata": {},
   "outputs": [],
   "source": [
    "# POSTAGE 우편비는 상품으로 볼 수 없다면 ==> 분석용 계산에서 무시\n",
    "\n",
    "tr02 = tr02[tr02.Description !='POSTAGE']"
   ]
  },
  {
   "cell_type": "code",
   "execution_count": 41,
   "metadata": {},
   "outputs": [
    {
     "data": {
      "image/png": "[encoded data removed]",
      "text/plain": [
       "<Figure size 432x288 with 1 Axes>"
      ]
     },
     "metadata": {
      "needs_background": "light"
     },
     "output_type": "display_data"
    }
   ],
   "source": [
    "tr02[['InvoiceNo', 'Description']].groupby('Description').count().sort_values('InvoiceNo', ascending=False).cumsum().plot()\n",
    "plt.title('Cumulative Frequency Distribution of Description')\n",
    "plt.show()"
   ]
  },
  {
   "cell_type": "markdown",
   "metadata": {},
   "source": [
    "### 추가적인 변수 생성 연습\n",
    "- 최근 3개월 중 거래한 개월 수는?\n",
    "- 최근 6개월 중 월별로 100 이상 금액을 거래한 개월 수는?\n",
    "- 월별 금액의 변동성은?\n",
    "- 총 구매한 Description의 종류 수는?\n",
    "- [타겟변경] 예측대상 기간에 2일 이상 거래한 경우를 1로 (=Classification)"
   ]
  },
  {
   "cell_type": "code",
   "execution_count": 42,
   "metadata": {},
   "outputs": [
    {
     "data": {
      "text/html": [
       "<div>\n",
       "<style scoped>\n",
       "    .dataframe tbody tr th:only-of-type {\n",
       "        vertical-align: middle;\n",
       "    }\n",
       "\n",
       "    .dataframe tbody tr th {\n",
       "        vertical-align: top;\n",
       "    }\n",
       "\n",
       "    .dataframe thead th {\n",
       "        text-align: right;\n",
       "    }\n",
       "</style>\n",
       "<table border=\"1\" class=\"dataframe\">\n",
       "  <thead>\n",
       "    <tr style=\"text-align: right;\">\n",
       "      <th></th>\n",
       "      <th>CustomerID</th>\n",
       "      <th>month</th>\n",
       "      <th>Amount</th>\n",
       "    </tr>\n",
       "  </thead>\n",
       "  <tbody>\n",
       "    <tr>\n",
       "      <th>0</th>\n",
       "      <td>12346.0</td>\n",
       "      <td>2011-01</td>\n",
       "      <td>77183.60</td>\n",
       "    </tr>\n",
       "    <tr>\n",
       "      <th>1</th>\n",
       "      <td>12347.0</td>\n",
       "      <td>2010-12</td>\n",
       "      <td>711.79</td>\n",
       "    </tr>\n",
       "    <tr>\n",
       "      <th>2</th>\n",
       "      <td>12347.0</td>\n",
       "      <td>2011-01</td>\n",
       "      <td>475.39</td>\n",
       "    </tr>\n",
       "    <tr>\n",
       "      <th>3</th>\n",
       "      <td>12347.0</td>\n",
       "      <td>2011-04</td>\n",
       "      <td>636.25</td>\n",
       "    </tr>\n",
       "    <tr>\n",
       "      <th>4</th>\n",
       "      <td>12347.0</td>\n",
       "      <td>2011-06</td>\n",
       "      <td>382.52</td>\n",
       "    </tr>\n",
       "  </tbody>\n",
       "</table>\n",
       "</div>"
      ],
      "text/plain": [
       "   CustomerID    month    Amount\n",
       "0     12346.0  2011-01  77183.60\n",
       "1     12347.0  2010-12    711.79\n",
       "2     12347.0  2011-01    475.39\n",
       "3     12347.0  2011-04    636.25\n",
       "4     12347.0  2011-06    382.52"
      ]
     },
     "execution_count": 42,
     "metadata": {},
     "output_type": "execute_result"
    }
   ],
   "source": [
    "# 월별 금액의 변동성\n",
    "\n",
    "tr02aflc = tr02a[['CustomerID', 'month', 'Quantity', 'UnitPrice']] # get fluctuation\n",
    "tr02aflc['Amount'] = tr02aflc.Quantity * tr02aflc.UnitPrice\n",
    "\n",
    "# 고객별 월별 집계 생성\n",
    "tr02aflc1 = tr02aflc[['CustomerID', 'month','Amount']].groupby(['CustomerID', 'month']).sum().reset_index()\n",
    "tr02aflc1.head()\n",
    "# Issue: 고객별로 거래가 없던 월은 record 자체가 없음"
   ]
  },
  {
   "cell_type": "code",
   "execution_count": 43,
   "metadata": {},
   "outputs": [
    {
     "data": {
      "text/html": [
       "<div>\n",
       "<style scoped>\n",
       "    .dataframe tbody tr th:only-of-type {\n",
       "        vertical-align: middle;\n",
       "    }\n",
       "\n",
       "    .dataframe tbody tr th {\n",
       "        vertical-align: top;\n",
       "    }\n",
       "\n",
       "    .dataframe thead th {\n",
       "        text-align: right;\n",
       "    }\n",
       "</style>\n",
       "<table border=\"1\" class=\"dataframe\">\n",
       "  <thead>\n",
       "    <tr style=\"text-align: right;\">\n",
       "      <th></th>\n",
       "      <th>CustomerID</th>\n",
       "      <th>month</th>\n",
       "    </tr>\n",
       "  </thead>\n",
       "  <tbody>\n",
       "    <tr>\n",
       "      <th>0</th>\n",
       "      <td>17850.0</td>\n",
       "      <td>2010-12</td>\n",
       "    </tr>\n",
       "    <tr>\n",
       "      <th>1</th>\n",
       "      <td>17850.0</td>\n",
       "      <td>2011-01</td>\n",
       "    </tr>\n",
       "    <tr>\n",
       "      <th>2</th>\n",
       "      <td>17850.0</td>\n",
       "      <td>2011-02</td>\n",
       "    </tr>\n",
       "    <tr>\n",
       "      <th>3</th>\n",
       "      <td>17850.0</td>\n",
       "      <td>2011-03</td>\n",
       "    </tr>\n",
       "    <tr>\n",
       "      <th>4</th>\n",
       "      <td>17850.0</td>\n",
       "      <td>2011-04</td>\n",
       "    </tr>\n",
       "    <tr>\n",
       "      <th>5</th>\n",
       "      <td>17850.0</td>\n",
       "      <td>2011-05</td>\n",
       "    </tr>\n",
       "    <tr>\n",
       "      <th>6</th>\n",
       "      <td>17850.0</td>\n",
       "      <td>2011-06</td>\n",
       "    </tr>\n",
       "    <tr>\n",
       "      <th>7</th>\n",
       "      <td>17850.0</td>\n",
       "      <td>2011-07</td>\n",
       "    </tr>\n",
       "    <tr>\n",
       "      <th>8</th>\n",
       "      <td>17850.0</td>\n",
       "      <td>2011-08</td>\n",
       "    </tr>\n",
       "    <tr>\n",
       "      <th>9</th>\n",
       "      <td>17850.0</td>\n",
       "      <td>2011-09</td>\n",
       "    </tr>\n",
       "    <tr>\n",
       "      <th>10</th>\n",
       "      <td>17850.0</td>\n",
       "      <td>2011-10</td>\n",
       "    </tr>\n",
       "    <tr>\n",
       "      <th>11</th>\n",
       "      <td>17850.0</td>\n",
       "      <td>2011-11</td>\n",
       "    </tr>\n",
       "    <tr>\n",
       "      <th>12</th>\n",
       "      <td>13047.0</td>\n",
       "      <td>2010-12</td>\n",
       "    </tr>\n",
       "    <tr>\n",
       "      <th>13</th>\n",
       "      <td>13047.0</td>\n",
       "      <td>2011-01</td>\n",
       "    </tr>\n",
       "    <tr>\n",
       "      <th>14</th>\n",
       "      <td>13047.0</td>\n",
       "      <td>2011-02</td>\n",
       "    </tr>\n",
       "    <tr>\n",
       "      <th>15</th>\n",
       "      <td>13047.0</td>\n",
       "      <td>2011-03</td>\n",
       "    </tr>\n",
       "    <tr>\n",
       "      <th>16</th>\n",
       "      <td>13047.0</td>\n",
       "      <td>2011-04</td>\n",
       "    </tr>\n",
       "    <tr>\n",
       "      <th>17</th>\n",
       "      <td>13047.0</td>\n",
       "      <td>2011-05</td>\n",
       "    </tr>\n",
       "    <tr>\n",
       "      <th>18</th>\n",
       "      <td>13047.0</td>\n",
       "      <td>2011-06</td>\n",
       "    </tr>\n",
       "    <tr>\n",
       "      <th>19</th>\n",
       "      <td>13047.0</td>\n",
       "      <td>2011-07</td>\n",
       "    </tr>\n",
       "  </tbody>\n",
       "</table>\n",
       "</div>"
      ],
      "text/plain": [
       "    CustomerID    month\n",
       "0      17850.0  2010-12\n",
       "1      17850.0  2011-01\n",
       "2      17850.0  2011-02\n",
       "3      17850.0  2011-03\n",
       "4      17850.0  2011-04\n",
       "5      17850.0  2011-05\n",
       "6      17850.0  2011-06\n",
       "7      17850.0  2011-07\n",
       "8      17850.0  2011-08\n",
       "9      17850.0  2011-09\n",
       "10     17850.0  2011-10\n",
       "11     17850.0  2011-11\n",
       "12     13047.0  2010-12\n",
       "13     13047.0  2011-01\n",
       "14     13047.0  2011-02\n",
       "15     13047.0  2011-03\n",
       "16     13047.0  2011-04\n",
       "17     13047.0  2011-05\n",
       "18     13047.0  2011-06\n",
       "19     13047.0  2011-07"
      ]
     },
     "execution_count": 43,
     "metadata": {},
     "output_type": "execute_result"
    }
   ],
   "source": [
    "# 모든 고객에 대해 모든 월의 조합 테이블 먼저 생성\n",
    "from itertools import product\n",
    "    \n",
    "tr02aflc0 = pd.DataFrame(list(product(tr02aflc.CustomerID.drop_duplicates(), tr02aflc.month.drop_duplicates())), \n",
    "              columns=['CustomerID', 'month'])\n",
    "tr02aflc0.head(20)"
   ]
  },
  {
   "cell_type": "code",
   "execution_count": 44,
   "metadata": {},
   "outputs": [
    {
     "data": {
      "text/html": [
       "<div>\n",
       "<style scoped>\n",
       "    .dataframe tbody tr th:only-of-type {\n",
       "        vertical-align: middle;\n",
       "    }\n",
       "\n",
       "    .dataframe tbody tr th {\n",
       "        vertical-align: top;\n",
       "    }\n",
       "\n",
       "    .dataframe thead th {\n",
       "        text-align: right;\n",
       "    }\n",
       "</style>\n",
       "<table border=\"1\" class=\"dataframe\">\n",
       "  <thead>\n",
       "    <tr style=\"text-align: right;\">\n",
       "      <th></th>\n",
       "      <th>CustomerID</th>\n",
       "      <th>month</th>\n",
       "      <th>Amount</th>\n",
       "    </tr>\n",
       "  </thead>\n",
       "  <tbody>\n",
       "    <tr>\n",
       "      <th>0</th>\n",
       "      <td>17850.0</td>\n",
       "      <td>2010-12</td>\n",
       "      <td>5391.21</td>\n",
       "    </tr>\n",
       "    <tr>\n",
       "      <th>1</th>\n",
       "      <td>17850.0</td>\n",
       "      <td>2011-01</td>\n",
       "      <td>NaN</td>\n",
       "    </tr>\n",
       "    <tr>\n",
       "      <th>2</th>\n",
       "      <td>17850.0</td>\n",
       "      <td>2011-02</td>\n",
       "      <td>NaN</td>\n",
       "    </tr>\n",
       "    <tr>\n",
       "      <th>3</th>\n",
       "      <td>17850.0</td>\n",
       "      <td>2011-03</td>\n",
       "      <td>NaN</td>\n",
       "    </tr>\n",
       "    <tr>\n",
       "      <th>4</th>\n",
       "      <td>17850.0</td>\n",
       "      <td>2011-04</td>\n",
       "      <td>NaN</td>\n",
       "    </tr>\n",
       "  </tbody>\n",
       "</table>\n",
       "</div>"
      ],
      "text/plain": [
       "   CustomerID    month   Amount\n",
       "0     17850.0  2010-12  5391.21\n",
       "1     17850.0  2011-01      NaN\n",
       "2     17850.0  2011-02      NaN\n",
       "3     17850.0  2011-03      NaN\n",
       "4     17850.0  2011-04      NaN"
      ]
     },
     "execution_count": 44,
     "metadata": {},
     "output_type": "execute_result"
    }
   ],
   "source": [
    "tr02aflc0 = tr02aflc0.merge(tr02aflc1, on=['CustomerID','month'], how='left')\n",
    "tr02aflc0.head()"
   ]
  },
  {
   "cell_type": "code",
   "execution_count": 45,
   "metadata": {},
   "outputs": [
    {
     "data": {
      "text/html": [
       "<div>\n",
       "<style scoped>\n",
       "    .dataframe tbody tr th:only-of-type {\n",
       "        vertical-align: middle;\n",
       "    }\n",
       "\n",
       "    .dataframe tbody tr th {\n",
       "        vertical-align: top;\n",
       "    }\n",
       "\n",
       "    .dataframe thead th {\n",
       "        text-align: right;\n",
       "    }\n",
       "</style>\n",
       "<table border=\"1\" class=\"dataframe\">\n",
       "  <thead>\n",
       "    <tr style=\"text-align: right;\">\n",
       "      <th></th>\n",
       "      <th>CustomerID</th>\n",
       "      <th>month</th>\n",
       "      <th>Amount</th>\n",
       "    </tr>\n",
       "  </thead>\n",
       "  <tbody>\n",
       "    <tr>\n",
       "      <th>0</th>\n",
       "      <td>17850.0</td>\n",
       "      <td>2010-12</td>\n",
       "      <td>5391.21</td>\n",
       "    </tr>\n",
       "    <tr>\n",
       "      <th>1</th>\n",
       "      <td>17850.0</td>\n",
       "      <td>2011-01</td>\n",
       "      <td>0.00</td>\n",
       "    </tr>\n",
       "    <tr>\n",
       "      <th>2</th>\n",
       "      <td>17850.0</td>\n",
       "      <td>2011-02</td>\n",
       "      <td>0.00</td>\n",
       "    </tr>\n",
       "    <tr>\n",
       "      <th>3</th>\n",
       "      <td>17850.0</td>\n",
       "      <td>2011-03</td>\n",
       "      <td>0.00</td>\n",
       "    </tr>\n",
       "    <tr>\n",
       "      <th>4</th>\n",
       "      <td>17850.0</td>\n",
       "      <td>2011-04</td>\n",
       "      <td>0.00</td>\n",
       "    </tr>\n",
       "  </tbody>\n",
       "</table>\n",
       "</div>"
      ],
      "text/plain": [
       "   CustomerID    month   Amount\n",
       "0     17850.0  2010-12  5391.21\n",
       "1     17850.0  2011-01     0.00\n",
       "2     17850.0  2011-02     0.00\n",
       "3     17850.0  2011-03     0.00\n",
       "4     17850.0  2011-04     0.00"
      ]
     },
     "execution_count": 45,
     "metadata": {},
     "output_type": "execute_result"
    }
   ],
   "source": [
    "# fill in missing values\n",
    "\n",
    "tr02aflc0['Amount'] = np.where(tr02aflc0['Amount'].isna(), 0, tr02aflc0['Amount'])\n",
    "tr02aflc0.head()"
   ]
  },
  {
   "cell_type": "code",
   "execution_count": 46,
   "metadata": {},
   "outputs": [
    {
     "data": {
      "text/html": [
       "<div>\n",
       "<style scoped>\n",
       "    .dataframe tbody tr th:only-of-type {\n",
       "        vertical-align: middle;\n",
       "    }\n",
       "\n",
       "    .dataframe tbody tr th {\n",
       "        vertical-align: top;\n",
       "    }\n",
       "\n",
       "    .dataframe thead th {\n",
       "        text-align: right;\n",
       "    }\n",
       "</style>\n",
       "<table border=\"1\" class=\"dataframe\">\n",
       "  <thead>\n",
       "    <tr style=\"text-align: right;\">\n",
       "      <th></th>\n",
       "      <th>CustomerID</th>\n",
       "      <th>Amount</th>\n",
       "    </tr>\n",
       "  </thead>\n",
       "  <tbody>\n",
       "    <tr>\n",
       "      <th>0</th>\n",
       "      <td>12346.0</td>\n",
       "      <td>22280.986119</td>\n",
       "    </tr>\n",
       "    <tr>\n",
       "      <th>1</th>\n",
       "      <td>12347.0</td>\n",
       "      <td>416.744483</td>\n",
       "    </tr>\n",
       "    <tr>\n",
       "      <th>2</th>\n",
       "      <td>12348.0</td>\n",
       "      <td>206.479662</td>\n",
       "    </tr>\n",
       "    <tr>\n",
       "      <th>3</th>\n",
       "      <td>12349.0</td>\n",
       "      <td>420.758442</td>\n",
       "    </tr>\n",
       "    <tr>\n",
       "      <th>4</th>\n",
       "      <td>12350.0</td>\n",
       "      <td>84.985960</td>\n",
       "    </tr>\n",
       "  </tbody>\n",
       "</table>\n",
       "</div>"
      ],
      "text/plain": [
       "   CustomerID        Amount\n",
       "0     12346.0  22280.986119\n",
       "1     12347.0    416.744483\n",
       "2     12348.0    206.479662\n",
       "3     12349.0    420.758442\n",
       "4     12350.0     84.985960"
      ]
     },
     "execution_count": 46,
     "metadata": {},
     "output_type": "execute_result"
    }
   ],
   "source": [
    "tr02aflc2 = tr02aflc0[['CustomerID','Amount']].groupby('CustomerID').std().reset_index()\n",
    "# change column name to std of amount\n",
    "tr02aflc2.head()"
   ]
  },
  {
   "cell_type": "code",
   "execution_count": 47,
   "metadata": {},
   "outputs": [
    {
     "data": {
      "text/plain": [
       "<matplotlib.axes._subplots.AxesSubplot at 0x1df183a2670>"
      ]
     },
     "execution_count": 47,
     "metadata": {},
     "output_type": "execute_result"
    },
    {
     "data": {
      "image/png": "[encoded data removed]",
      "text/plain": [
       "<Figure size 432x288 with 1 Axes>"
      ]
     },
     "metadata": {
      "needs_background": "light"
     },
     "output_type": "display_data"
    }
   ],
   "source": [
    "tr02aflc2.columns = ['CustomerID','AmountSTD']\n",
    "tr02aflc2.AmountSTD.plot()\n",
    "\n",
    "# we better use CV over std()  변동계수 CV = 표준편차/평균"
   ]
  },
  {
   "cell_type": "code",
   "execution_count": 48,
   "metadata": {},
   "outputs": [
    {
     "data": {
      "text/html": [
       "<div>\n",
       "<style scoped>\n",
       "    .dataframe tbody tr th:only-of-type {\n",
       "        vertical-align: middle;\n",
       "    }\n",
       "\n",
       "    .dataframe tbody tr th {\n",
       "        vertical-align: top;\n",
       "    }\n",
       "\n",
       "    .dataframe thead th {\n",
       "        text-align: right;\n",
       "    }\n",
       "</style>\n",
       "<table border=\"1\" class=\"dataframe\">\n",
       "  <thead>\n",
       "    <tr style=\"text-align: right;\">\n",
       "      <th></th>\n",
       "      <th>CustomerID</th>\n",
       "      <th>AmountSTD</th>\n",
       "      <th>AmountMean</th>\n",
       "      <th>AmountCV</th>\n",
       "    </tr>\n",
       "  </thead>\n",
       "  <tbody>\n",
       "    <tr>\n",
       "      <th>0</th>\n",
       "      <td>12346.0</td>\n",
       "      <td>22280.986119</td>\n",
       "      <td>6431.966667</td>\n",
       "      <td>3.464102</td>\n",
       "    </tr>\n",
       "    <tr>\n",
       "      <th>1</th>\n",
       "      <td>12347.0</td>\n",
       "      <td>416.744483</td>\n",
       "      <td>340.431667</td>\n",
       "      <td>1.224165</td>\n",
       "    </tr>\n",
       "    <tr>\n",
       "      <th>2</th>\n",
       "      <td>12348.0</td>\n",
       "      <td>206.479662</td>\n",
       "      <td>119.770000</td>\n",
       "      <td>1.723968</td>\n",
       "    </tr>\n",
       "    <tr>\n",
       "      <th>3</th>\n",
       "      <td>12349.0</td>\n",
       "      <td>420.758442</td>\n",
       "      <td>121.462500</td>\n",
       "      <td>3.464102</td>\n",
       "    </tr>\n",
       "    <tr>\n",
       "      <th>4</th>\n",
       "      <td>12350.0</td>\n",
       "      <td>84.985960</td>\n",
       "      <td>24.533333</td>\n",
       "      <td>3.464102</td>\n",
       "    </tr>\n",
       "  </tbody>\n",
       "</table>\n",
       "</div>"
      ],
      "text/plain": [
       "   CustomerID     AmountSTD   AmountMean  AmountCV\n",
       "0     12346.0  22280.986119  6431.966667  3.464102\n",
       "1     12347.0    416.744483   340.431667  1.224165\n",
       "2     12348.0    206.479662   119.770000  1.723968\n",
       "3     12349.0    420.758442   121.462500  3.464102\n",
       "4     12350.0     84.985960    24.533333  3.464102"
      ]
     },
     "execution_count": 48,
     "metadata": {},
     "output_type": "execute_result"
    }
   ],
   "source": [
    "tr02aflc3 = tr02aflc0[['CustomerID','Amount']].groupby('CustomerID').mean().reset_index()\n",
    "tr02aflc3.columns = ['CustomerID','AmountMean']\n",
    "# change column name to std of amount\n",
    "tr02aflc2 = tr02aflc2.merge(tr02aflc3, on='CustomerID',  how='left')\n",
    "# CV : Coefficent of Variance\n",
    "tr02aflc2['AmountCV'] = tr02aflc2.AmountSTD/tr02aflc2.AmountMean\n",
    "tr02aflc2.head()"
   ]
  },
  {
   "cell_type": "code",
   "execution_count": 49,
   "metadata": {},
   "outputs": [
    {
     "data": {
      "text/plain": [
       "<matplotlib.axes._subplots.AxesSubplot at 0x1df18747970>"
      ]
     },
     "execution_count": 49,
     "metadata": {},
     "output_type": "execute_result"
    },
    {
     "data": {
      "image/png": "[encoded data removed]",
      "text/plain": [
       "<Figure size 432x288 with 1 Axes>"
      ]
     },
     "metadata": {
      "needs_background": "light"
     },
     "output_type": "display_data"
    }
   ],
   "source": [
    "tr02aflc2.AmountCV.plot() # STD scaled consider Mean"
   ]
  },
  {
   "cell_type": "code",
   "execution_count": 50,
   "metadata": {},
   "outputs": [
    {
     "name": "stdout",
     "output_type": "stream",
     "text": [
      "0\n"
     ]
    },
    {
     "data": {
      "text/html": [
       "<div>\n",
       "<style scoped>\n",
       "    .dataframe tbody tr th:only-of-type {\n",
       "        vertical-align: middle;\n",
       "    }\n",
       "\n",
       "    .dataframe tbody tr th {\n",
       "        vertical-align: top;\n",
       "    }\n",
       "\n",
       "    .dataframe thead th {\n",
       "        text-align: right;\n",
       "    }\n",
       "</style>\n",
       "<table border=\"1\" class=\"dataframe\">\n",
       "  <thead>\n",
       "    <tr style=\"text-align: right;\">\n",
       "      <th></th>\n",
       "      <th>CustomerID</th>\n",
       "      <th>Frq</th>\n",
       "      <th>AMT</th>\n",
       "      <th>recency</th>\n",
       "      <th>AMTnm</th>\n",
       "      <th>AmountCV</th>\n",
       "    </tr>\n",
       "  </thead>\n",
       "  <tbody>\n",
       "    <tr>\n",
       "      <th>0</th>\n",
       "      <td>17850</td>\n",
       "      <td>2</td>\n",
       "      <td>5391.21</td>\n",
       "      <td>-364</td>\n",
       "      <td>0.00</td>\n",
       "      <td>3.464102</td>\n",
       "    </tr>\n",
       "    <tr>\n",
       "      <th>1</th>\n",
       "      <td>13047</td>\n",
       "      <td>7</td>\n",
       "      <td>3232.59</td>\n",
       "      <td>-48</td>\n",
       "      <td>0.00</td>\n",
       "      <td>0.903975</td>\n",
       "    </tr>\n",
       "    <tr>\n",
       "      <th>2</th>\n",
       "      <td>12583</td>\n",
       "      <td>14</td>\n",
       "      <td>6064.61</td>\n",
       "      <td>-10</td>\n",
       "      <td>640.77</td>\n",
       "      <td>0.609049</td>\n",
       "    </tr>\n",
       "    <tr>\n",
       "      <th>3</th>\n",
       "      <td>13748</td>\n",
       "      <td>4</td>\n",
       "      <td>948.25</td>\n",
       "      <td>-87</td>\n",
       "      <td>0.00</td>\n",
       "      <td>1.883540</td>\n",
       "    </tr>\n",
       "    <tr>\n",
       "      <th>4</th>\n",
       "      <td>15100</td>\n",
       "      <td>3</td>\n",
       "      <td>876.00</td>\n",
       "      <td>-325</td>\n",
       "      <td>0.00</td>\n",
       "      <td>2.794800</td>\n",
       "    </tr>\n",
       "  </tbody>\n",
       "</table>\n",
       "</div>"
      ],
      "text/plain": [
       "  CustomerID  Frq      AMT  recency   AMTnm  AmountCV\n",
       "0      17850    2  5391.21     -364    0.00  3.464102\n",
       "1      13047    7  3232.59      -48    0.00  0.903975\n",
       "2      12583   14  6064.61      -10  640.77  0.609049\n",
       "3      13748    4   948.25      -87    0.00  1.883540\n",
       "4      15100    3   876.00     -325    0.00  2.794800"
      ]
     },
     "execution_count": 50,
     "metadata": {},
     "output_type": "execute_result"
    }
   ],
   "source": [
    "# data type 통일\n",
    "tr02aflc2.CustomerID = tr02aflc2.CustomerID.astype(float).astype(int).astype(str)\n",
    "\n",
    "dfRFM = dfRFM.merge(tr02aflc2[['CustomerID', 'AmountCV']], on='CustomerID', how='left')\n",
    "print(dfRFM.isna().any().sum())\n",
    "dfRFM.head()"
   ]
  },
  {
   "cell_type": "code",
   "execution_count": 51,
   "metadata": {},
   "outputs": [
    {
     "data": {
      "text/plain": [
       "(0.0, 5000.0)"
      ]
     },
     "execution_count": 51,
     "metadata": {},
     "output_type": "execute_result"
    },
    {
     "data": {
      "image/png": "[encoded data removed]",
      "text/plain": [
       "<Figure size 432x288 with 1 Axes>"
      ]
     },
     "metadata": {
      "needs_background": "light"
     },
     "output_type": "display_data"
    }
   ],
   "source": [
    "plt.scatter(dfRFM.AmountCV, dfRFM.AMTnm, alpha=0.3)\n",
    "plt.ylim(0,5000)\n",
    "\n",
    "# 변동성이 작을수록 다음 달 금액이 큰 관계"
   ]
  },
  {
   "cell_type": "code",
   "execution_count": 52,
   "metadata": {},
   "outputs": [
    {
     "data": {
      "text/html": [
       "<div>\n",
       "<style scoped>\n",
       "    .dataframe tbody tr th:only-of-type {\n",
       "        vertical-align: middle;\n",
       "    }\n",
       "\n",
       "    .dataframe tbody tr th {\n",
       "        vertical-align: top;\n",
       "    }\n",
       "\n",
       "    .dataframe thead th {\n",
       "        text-align: right;\n",
       "    }\n",
       "</style>\n",
       "<table border=\"1\" class=\"dataframe\">\n",
       "  <thead>\n",
       "    <tr style=\"text-align: right;\">\n",
       "      <th></th>\n",
       "      <th>Frq</th>\n",
       "      <th>AMT</th>\n",
       "      <th>recency</th>\n",
       "      <th>AMTnm</th>\n",
       "      <th>AmountCV</th>\n",
       "    </tr>\n",
       "  </thead>\n",
       "  <tbody>\n",
       "    <tr>\n",
       "      <th>Frq</th>\n",
       "      <td>1.000000</td>\n",
       "      <td>0.672886</td>\n",
       "      <td>0.352421</td>\n",
       "      <td>0.060180</td>\n",
       "      <td>-0.731119</td>\n",
       "    </tr>\n",
       "    <tr>\n",
       "      <th>AMT</th>\n",
       "      <td>0.672886</td>\n",
       "      <td>1.000000</td>\n",
       "      <td>0.193215</td>\n",
       "      <td>0.091721</td>\n",
       "      <td>-0.396893</td>\n",
       "    </tr>\n",
       "    <tr>\n",
       "      <th>recency</th>\n",
       "      <td>0.352421</td>\n",
       "      <td>0.193215</td>\n",
       "      <td>1.000000</td>\n",
       "      <td>0.002076</td>\n",
       "      <td>-0.486158</td>\n",
       "    </tr>\n",
       "    <tr>\n",
       "      <th>AMTnm</th>\n",
       "      <td>0.060180</td>\n",
       "      <td>0.091721</td>\n",
       "      <td>0.002076</td>\n",
       "      <td>1.000000</td>\n",
       "      <td>-0.015788</td>\n",
       "    </tr>\n",
       "    <tr>\n",
       "      <th>AmountCV</th>\n",
       "      <td>-0.731119</td>\n",
       "      <td>-0.396893</td>\n",
       "      <td>-0.486158</td>\n",
       "      <td>-0.015788</td>\n",
       "      <td>1.000000</td>\n",
       "    </tr>\n",
       "  </tbody>\n",
       "</table>\n",
       "</div>"
      ],
      "text/plain": [
       "               Frq       AMT   recency     AMTnm  AmountCV\n",
       "Frq       1.000000  0.672886  0.352421  0.060180 -0.731119\n",
       "AMT       0.672886  1.000000  0.193215  0.091721 -0.396893\n",
       "recency   0.352421  0.193215  1.000000  0.002076 -0.486158\n",
       "AMTnm     0.060180  0.091721  0.002076  1.000000 -0.015788\n",
       "AmountCV -0.731119 -0.396893 -0.486158 -0.015788  1.000000"
      ]
     },
     "execution_count": 52,
     "metadata": {},
     "output_type": "execute_result"
    }
   ],
   "source": [
    "# 다른 변수들과 변동성간의 상관관계 확인\n",
    "\n",
    "dfRFM[1::].corr()"
   ]
  },
  {
   "cell_type": "code",
   "execution_count": 53,
   "metadata": {},
   "outputs": [
    {
     "data": {
      "image/png": "[encoded data removed]",
      "text/plain": [
       "<Figure size 432x288 with 1 Axes>"
      ]
     },
     "metadata": {
      "needs_background": "light"
     },
     "output_type": "display_data"
    }
   ],
   "source": [
    "plt.bar(dfRFM[1::].corr().index, dfRFM[1::].corr()['AMTnm']);"
   ]
  },
  {
   "cell_type": "code",
   "execution_count": 54,
   "metadata": {},
   "outputs": [
    {
     "data": {
      "text/html": [
       "<div>\n",
       "<style scoped>\n",
       "    .dataframe tbody tr th:only-of-type {\n",
       "        vertical-align: middle;\n",
       "    }\n",
       "\n",
       "    .dataframe tbody tr th {\n",
       "        vertical-align: top;\n",
       "    }\n",
       "\n",
       "    .dataframe thead th {\n",
       "        text-align: right;\n",
       "    }\n",
       "</style>\n",
       "<table border=\"1\" class=\"dataframe\">\n",
       "  <thead>\n",
       "    <tr style=\"text-align: right;\">\n",
       "      <th></th>\n",
       "      <th>CustomerID</th>\n",
       "      <th>Frq</th>\n",
       "      <th>AMT</th>\n",
       "      <th>recency</th>\n",
       "      <th>AMTnm</th>\n",
       "      <th>AmountCV</th>\n",
       "    </tr>\n",
       "  </thead>\n",
       "  <tbody>\n",
       "    <tr>\n",
       "      <th>0</th>\n",
       "      <td>17850</td>\n",
       "      <td>2</td>\n",
       "      <td>5391.21</td>\n",
       "      <td>-364</td>\n",
       "      <td>0.00</td>\n",
       "      <td>3.464102</td>\n",
       "    </tr>\n",
       "    <tr>\n",
       "      <th>1</th>\n",
       "      <td>13047</td>\n",
       "      <td>7</td>\n",
       "      <td>3232.59</td>\n",
       "      <td>-48</td>\n",
       "      <td>0.00</td>\n",
       "      <td>0.903975</td>\n",
       "    </tr>\n",
       "    <tr>\n",
       "      <th>2</th>\n",
       "      <td>12583</td>\n",
       "      <td>14</td>\n",
       "      <td>6064.61</td>\n",
       "      <td>-10</td>\n",
       "      <td>640.77</td>\n",
       "      <td>0.609049</td>\n",
       "    </tr>\n",
       "    <tr>\n",
       "      <th>3</th>\n",
       "      <td>13748</td>\n",
       "      <td>4</td>\n",
       "      <td>948.25</td>\n",
       "      <td>-87</td>\n",
       "      <td>0.00</td>\n",
       "      <td>1.883540</td>\n",
       "    </tr>\n",
       "    <tr>\n",
       "      <th>4</th>\n",
       "      <td>15100</td>\n",
       "      <td>3</td>\n",
       "      <td>876.00</td>\n",
       "      <td>-325</td>\n",
       "      <td>0.00</td>\n",
       "      <td>2.794800</td>\n",
       "    </tr>\n",
       "  </tbody>\n",
       "</table>\n",
       "</div>"
      ],
      "text/plain": [
       "  CustomerID  Frq      AMT  recency   AMTnm  AmountCV\n",
       "0      17850    2  5391.21     -364    0.00  3.464102\n",
       "1      13047    7  3232.59      -48    0.00  0.903975\n",
       "2      12583   14  6064.61      -10  640.77  0.609049\n",
       "3      13748    4   948.25      -87    0.00  1.883540\n",
       "4      15100    3   876.00     -325    0.00  2.794800"
      ]
     },
     "execution_count": 54,
     "metadata": {},
     "output_type": "execute_result"
    }
   ],
   "source": [
    "# 특정 컬럼명 한 두개만 바꿔야 한다면 rename 으로 해당 컬럼을 변경\n",
    "\n",
    "# dfRFM = dfRFM.rename(columns={\"recency\": \"Receny\"})\n",
    "# dfRFM = dfRFM.rename(columns={\"Rececny\": \"receny\"})\n",
    "# dfRFM = dfRFM.rename(columns={\"receny\": \"recency\"})\n",
    "dfRFM.head()"
   ]
  },
  {
   "cell_type": "code",
   "execution_count": null,
   "metadata": {},
   "outputs": [],
   "source": []
  }
 ],
 "metadata": {
  "kernelspec": {
   "display_name": "Python 3",
   "language": "python",
   "name": "python3"
  },
  "language_info": {
   "codemirror_mode": {
    "name": "ipython",
    "version": 3
   },
   "file_extension": ".py",
   "mimetype": "text/x-python",
   "name": "python",
   "nbconvert_exporter": "python",
   "pygments_lexer": "ipython3",
   "version": "3.8.3"
  }
 },
 "nbformat": 4,
 "nbformat_minor": 4
}
