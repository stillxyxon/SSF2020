{
 "cells": [
  {
   "cell_type": "markdown",
   "metadata": {},
   "source": [
    "# [1] EDA Exploratory Data Analysis 탐색적 데이터 분석"
   ]
  },
  {
   "cell_type": "code",
   "execution_count": 1,
   "metadata": {},
   "outputs": [
    {
     "name": "stdout",
     "output_type": "stream",
     "text": [
      "3.8.3 (default, Jul  2 2020, 17:30:36) [MSC v.1916 64 bit (AMD64)]\n"
     ]
    }
   ],
   "source": [
    "# check environment setup\n",
    "\n",
    "# 파이썬 버전 체크\n",
    "import sys\n",
    "print(sys.version) "
   ]
  },
  {
   "cell_type": "code",
   "execution_count": 2,
   "metadata": {},
   "outputs": [],
   "source": [
    "# conda install python=3.7.6  # 특정 버전을 지정해서 콘다로 파이썬 설치할 경우"
   ]
  },
  {
   "cell_type": "code",
   "execution_count": 3,
   "metadata": {},
   "outputs": [],
   "source": [
    "import numpy as np\n",
    "import matplotlib.pyplot as plt\n",
    "import pandas as pd\n",
    "from numpy.polynomial.polynomial import polyfit\n",
    "import matplotlib.style as style \n",
    "# from IPython.display import Image\n",
    "\n",
    "import warnings\n",
    "warnings.filterwarnings('ignore')\n",
    "# never print matching warnings -- 중요하지 않은 경고 메시지 출력을 무시\n",
    "\n",
    "\n",
    "# define random jitter\n",
    "def rjitt(arr):\n",
    "    stdev = .01*(max(arr)-min(arr))\n",
    "    return arr + np.random.randn(len(arr)) * stdev\n",
    "\n",
    "# to set data path\n",
    "dataPath = 'https://raw.githubusercontent.com/stillxyxon/py_ml_analysis/master/'\n",
    "# to get the data to use from github\n",
    "\n",
    "\n",
    "# YONG's local data path\n",
    "# dataPath = 'C:/YONG/m1710/myPydata/'\n",
    "\n",
    "# Your Own local data path\n",
    "# dataPath = 'C:/SomeFolder/'"
   ]
  },
  {
   "cell_type": "markdown",
   "metadata": {},
   "source": [
    "## 탐색적 데이터 분석 기초 (+ 파이썬 기초 Review)"
   ]
  },
  {
   "cell_type": "code",
   "execution_count": 31,
   "metadata": {},
   "outputs": [
    {
     "name": "stdout",
     "output_type": "stream",
     "text": [
      "(24, 5)\n"
     ]
    },
    {
     "data": {
      "text/html": [
       "<div>\n",
       "<style scoped>\n",
       "    .dataframe tbody tr th:only-of-type {\n",
       "        vertical-align: middle;\n",
       "    }\n",
       "\n",
       "    .dataframe tbody tr th {\n",
       "        vertical-align: top;\n",
       "    }\n",
       "\n",
       "    .dataframe thead th {\n",
       "        text-align: right;\n",
       "    }\n",
       "</style>\n",
       "<table border=\"1\" class=\"dataframe\">\n",
       "  <thead>\n",
       "    <tr style=\"text-align: right;\">\n",
       "      <th></th>\n",
       "      <th>Year</th>\n",
       "      <th>Month</th>\n",
       "      <th>Interest_Rate</th>\n",
       "      <th>Unemployment_Rate</th>\n",
       "      <th>Stock_Index_Price</th>\n",
       "    </tr>\n",
       "  </thead>\n",
       "  <tbody>\n",
       "    <tr>\n",
       "      <th>0</th>\n",
       "      <td>2016</td>\n",
       "      <td>1</td>\n",
       "      <td>1.75</td>\n",
       "      <td>6.1</td>\n",
       "      <td>719</td>\n",
       "    </tr>\n",
       "    <tr>\n",
       "      <th>1</th>\n",
       "      <td>2016</td>\n",
       "      <td>2</td>\n",
       "      <td>1.75</td>\n",
       "      <td>6.2</td>\n",
       "      <td>704</td>\n",
       "    </tr>\n",
       "    <tr>\n",
       "      <th>2</th>\n",
       "      <td>2016</td>\n",
       "      <td>3</td>\n",
       "      <td>1.75</td>\n",
       "      <td>6.2</td>\n",
       "      <td>822</td>\n",
       "    </tr>\n",
       "    <tr>\n",
       "      <th>3</th>\n",
       "      <td>2016</td>\n",
       "      <td>4</td>\n",
       "      <td>1.75</td>\n",
       "      <td>5.9</td>\n",
       "      <td>876</td>\n",
       "    </tr>\n",
       "    <tr>\n",
       "      <th>4</th>\n",
       "      <td>2016</td>\n",
       "      <td>5</td>\n",
       "      <td>1.75</td>\n",
       "      <td>6.1</td>\n",
       "      <td>866</td>\n",
       "    </tr>\n",
       "  </tbody>\n",
       "</table>\n",
       "</div>"
      ],
      "text/plain": [
       "   Year  Month  Interest_Rate  Unemployment_Rate  Stock_Index_Price\n",
       "0  2016      1           1.75                6.1                719\n",
       "1  2016      2           1.75                6.2                704\n",
       "2  2016      3           1.75                6.2                822\n",
       "3  2016      4           1.75                5.9                876\n",
       "4  2016      5           1.75                6.1                866"
      ]
     },
     "metadata": {},
     "output_type": "display_data"
    },
    {
     "data": {
      "text/html": [
       "<div>\n",
       "<style scoped>\n",
       "    .dataframe tbody tr th:only-of-type {\n",
       "        vertical-align: middle;\n",
       "    }\n",
       "\n",
       "    .dataframe tbody tr th {\n",
       "        vertical-align: top;\n",
       "    }\n",
       "\n",
       "    .dataframe thead th {\n",
       "        text-align: right;\n",
       "    }\n",
       "</style>\n",
       "<table border=\"1\" class=\"dataframe\">\n",
       "  <thead>\n",
       "    <tr style=\"text-align: right;\">\n",
       "      <th></th>\n",
       "      <th>Year</th>\n",
       "      <th>Month</th>\n",
       "      <th>Interest_Rate</th>\n",
       "      <th>Unemployment_Rate</th>\n",
       "      <th>Stock_Index_Price</th>\n",
       "    </tr>\n",
       "  </thead>\n",
       "  <tbody>\n",
       "    <tr>\n",
       "      <th>19</th>\n",
       "      <td>2017</td>\n",
       "      <td>8</td>\n",
       "      <td>2.50</td>\n",
       "      <td>5.4</td>\n",
       "      <td>1256</td>\n",
       "    </tr>\n",
       "    <tr>\n",
       "      <th>20</th>\n",
       "      <td>2017</td>\n",
       "      <td>9</td>\n",
       "      <td>2.50</td>\n",
       "      <td>5.3</td>\n",
       "      <td>1293</td>\n",
       "    </tr>\n",
       "    <tr>\n",
       "      <th>21</th>\n",
       "      <td>2017</td>\n",
       "      <td>10</td>\n",
       "      <td>2.50</td>\n",
       "      <td>5.3</td>\n",
       "      <td>1357</td>\n",
       "    </tr>\n",
       "    <tr>\n",
       "      <th>22</th>\n",
       "      <td>2017</td>\n",
       "      <td>11</td>\n",
       "      <td>2.50</td>\n",
       "      <td>5.3</td>\n",
       "      <td>1394</td>\n",
       "    </tr>\n",
       "    <tr>\n",
       "      <th>23</th>\n",
       "      <td>2017</td>\n",
       "      <td>12</td>\n",
       "      <td>2.75</td>\n",
       "      <td>5.3</td>\n",
       "      <td>1464</td>\n",
       "    </tr>\n",
       "  </tbody>\n",
       "</table>\n",
       "</div>"
      ],
      "text/plain": [
       "    Year  Month  Interest_Rate  Unemployment_Rate  Stock_Index_Price\n",
       "19  2017      8           2.50                5.4               1256\n",
       "20  2017      9           2.50                5.3               1293\n",
       "21  2017     10           2.50                5.3               1357\n",
       "22  2017     11           2.50                5.3               1394\n",
       "23  2017     12           2.75                5.3               1464"
      ]
     },
     "execution_count": 31,
     "metadata": {},
     "output_type": "execute_result"
    }
   ],
   "source": [
    "# 연습용 데이터 생성 - 이자율, 실업 등 경제지표와 주가 데이터 예제\n",
    "\n",
    "from pandas import DataFrame\n",
    "\n",
    "stockmarket = {'Year': [2017,2017,2017,2017,2017,2017,2017,2017,2017,2017,2017,2017,2016,2016,2016,2016,2016,2016,2016,2016,2016,2016,2016,2016],\n",
    "                'Month': [12, 11,10,9,8,7,6,5,4,3,2,1,12,11,10,9,8,7,6,5,4,3,2,1],\n",
    "                'Interest_Rate': [2.75,2.5,2.5,2.5,2.5,2.5,2.5,2.25,2.25,2.25,2,2,2,1.75,1.75,1.75,1.75,1.75,1.75,1.75,1.75,1.75,1.75,1.75],\n",
    "                'Unemployment_Rate': [5.3,5.3,5.3,5.3,5.4,5.6,5.5,5.5,5.5,5.6,5.7,5.9,6,5.9,5.8,6.1,6.2,6.1,6.1,6.1,5.9,6.2,6.2,6.1],\n",
    "                'Stock_Index_Price': [1464,1394,1357,1293,1256,1254,1234,1195,1159,1167,1130,1075,1047,965,943,958,971,949,884,866,876,822,704,719]        \n",
    "                }\n",
    "\n",
    "df = DataFrame(stockmarket,columns=['Year','Month','Interest_Rate','Unemployment_Rate','Stock_Index_Price']) \n",
    "df = df.iloc[::-1] # 데이터프레임을 역순으로 변경\n",
    "df.index = np.array(range(24)) # index 재부여\n",
    "\n",
    "print(df.shape)\n",
    "display(df.head())\n",
    "df.tail()"
   ]
  },
  {
   "cell_type": "code",
   "execution_count": 32,
   "metadata": {},
   "outputs": [
    {
     "data": {
      "text/html": [
       "<div>\n",
       "<style scoped>\n",
       "    .dataframe tbody tr th:only-of-type {\n",
       "        vertical-align: middle;\n",
       "    }\n",
       "\n",
       "    .dataframe tbody tr th {\n",
       "        vertical-align: top;\n",
       "    }\n",
       "\n",
       "    .dataframe thead th {\n",
       "        text-align: right;\n",
       "    }\n",
       "</style>\n",
       "<table border=\"1\" class=\"dataframe\">\n",
       "  <thead>\n",
       "    <tr style=\"text-align: right;\">\n",
       "      <th></th>\n",
       "      <th>Year</th>\n",
       "      <th>Month</th>\n",
       "      <th>Interest_Rate</th>\n",
       "      <th>Unemployment_Rate</th>\n",
       "      <th>Stock_Index_Price</th>\n",
       "    </tr>\n",
       "  </thead>\n",
       "  <tbody>\n",
       "    <tr>\n",
       "      <th>23</th>\n",
       "      <td>2017</td>\n",
       "      <td>12</td>\n",
       "      <td>2.75</td>\n",
       "      <td>5.3</td>\n",
       "      <td>1464</td>\n",
       "    </tr>\n",
       "    <tr>\n",
       "      <th>22</th>\n",
       "      <td>2017</td>\n",
       "      <td>11</td>\n",
       "      <td>2.50</td>\n",
       "      <td>5.3</td>\n",
       "      <td>1394</td>\n",
       "    </tr>\n",
       "    <tr>\n",
       "      <th>21</th>\n",
       "      <td>2017</td>\n",
       "      <td>10</td>\n",
       "      <td>2.50</td>\n",
       "      <td>5.3</td>\n",
       "      <td>1357</td>\n",
       "    </tr>\n",
       "    <tr>\n",
       "      <th>20</th>\n",
       "      <td>2017</td>\n",
       "      <td>9</td>\n",
       "      <td>2.50</td>\n",
       "      <td>5.3</td>\n",
       "      <td>1293</td>\n",
       "    </tr>\n",
       "    <tr>\n",
       "      <th>19</th>\n",
       "      <td>2017</td>\n",
       "      <td>8</td>\n",
       "      <td>2.50</td>\n",
       "      <td>5.4</td>\n",
       "      <td>1256</td>\n",
       "    </tr>\n",
       "  </tbody>\n",
       "</table>\n",
       "</div>"
      ],
      "text/plain": [
       "    Year  Month  Interest_Rate  Unemployment_Rate  Stock_Index_Price\n",
       "23  2017     12           2.75                5.3               1464\n",
       "22  2017     11           2.50                5.3               1394\n",
       "21  2017     10           2.50                5.3               1357\n",
       "20  2017      9           2.50                5.3               1293\n",
       "19  2017      8           2.50                5.4               1256"
      ]
     },
     "metadata": {},
     "output_type": "display_data"
    },
    {
     "data": {
      "text/html": [
       "<div>\n",
       "<style scoped>\n",
       "    .dataframe tbody tr th:only-of-type {\n",
       "        vertical-align: middle;\n",
       "    }\n",
       "\n",
       "    .dataframe tbody tr th {\n",
       "        vertical-align: top;\n",
       "    }\n",
       "\n",
       "    .dataframe thead th {\n",
       "        text-align: right;\n",
       "    }\n",
       "</style>\n",
       "<table border=\"1\" class=\"dataframe\">\n",
       "  <thead>\n",
       "    <tr style=\"text-align: right;\">\n",
       "      <th></th>\n",
       "      <th>Year</th>\n",
       "      <th>Month</th>\n",
       "      <th>Interest_Rate</th>\n",
       "      <th>Unemployment_Rate</th>\n",
       "      <th>Stock_Index_Price</th>\n",
       "    </tr>\n",
       "  </thead>\n",
       "  <tbody>\n",
       "    <tr>\n",
       "      <th>0</th>\n",
       "      <td>2016</td>\n",
       "      <td>1</td>\n",
       "      <td>1.75</td>\n",
       "      <td>6.1</td>\n",
       "      <td>719</td>\n",
       "    </tr>\n",
       "    <tr>\n",
       "      <th>1</th>\n",
       "      <td>2016</td>\n",
       "      <td>2</td>\n",
       "      <td>1.75</td>\n",
       "      <td>6.2</td>\n",
       "      <td>704</td>\n",
       "    </tr>\n",
       "    <tr>\n",
       "      <th>2</th>\n",
       "      <td>2016</td>\n",
       "      <td>3</td>\n",
       "      <td>1.75</td>\n",
       "      <td>6.2</td>\n",
       "      <td>822</td>\n",
       "    </tr>\n",
       "    <tr>\n",
       "      <th>3</th>\n",
       "      <td>2016</td>\n",
       "      <td>4</td>\n",
       "      <td>1.75</td>\n",
       "      <td>5.9</td>\n",
       "      <td>876</td>\n",
       "    </tr>\n",
       "    <tr>\n",
       "      <th>4</th>\n",
       "      <td>2016</td>\n",
       "      <td>5</td>\n",
       "      <td>1.75</td>\n",
       "      <td>6.1</td>\n",
       "      <td>866</td>\n",
       "    </tr>\n",
       "  </tbody>\n",
       "</table>\n",
       "</div>"
      ],
      "text/plain": [
       "   Year  Month  Interest_Rate  Unemployment_Rate  Stock_Index_Price\n",
       "0  2016      1           1.75                6.1                719\n",
       "1  2016      2           1.75                6.2                704\n",
       "2  2016      3           1.75                6.2                822\n",
       "3  2016      4           1.75                5.9                876\n",
       "4  2016      5           1.75                6.1                866"
      ]
     },
     "metadata": {},
     "output_type": "display_data"
    }
   ],
   "source": [
    "# pandas iloc 문법 복습\n",
    "\n",
    "display(df.iloc[::-1].head())\n",
    "display(df.head())"
   ]
  },
  {
   "cell_type": "markdown",
   "metadata": {},
   "source": [
    "### 기본적인 dataframe 특성 파악"
   ]
  },
  {
   "cell_type": "code",
   "execution_count": 5,
   "metadata": {},
   "outputs": [
    {
     "data": {
      "text/plain": [
       "24"
      ]
     },
     "execution_count": 5,
     "metadata": {},
     "output_type": "execute_result"
    }
   ],
   "source": [
    "# 행의 수 확인\n",
    "len(df)"
   ]
  },
  {
   "cell_type": "code",
   "execution_count": 6,
   "metadata": {},
   "outputs": [
    {
     "data": {
      "text/plain": [
       "(24, 5)"
      ]
     },
     "execution_count": 6,
     "metadata": {},
     "output_type": "execute_result"
    }
   ],
   "source": [
    "# 행과 열의 수 확인\n",
    "df.shape"
   ]
  },
  {
   "cell_type": "code",
   "execution_count": 37,
   "metadata": {},
   "outputs": [
    {
     "data": {
      "text/plain": [
       "'24 rows and 5 columns'"
      ]
     },
     "execution_count": 37,
     "metadata": {},
     "output_type": "execute_result"
    }
   ],
   "source": [
    "# 행의 수와 열의 수 각각\n",
    "\n",
    "str(df.shape[0]) + ' rows and ' + str(df.shape[1]) + ' columns'\n",
    "\n",
    "# + : concatenate strings\n",
    "# str() : number to string"
   ]
  },
  {
   "cell_type": "code",
   "execution_count": 7,
   "metadata": {},
   "outputs": [
    {
     "data": {
      "text/plain": [
       "<bound method DataFrame.any of      Year  Month  Interest_Rate  Unemployment_Rate  Stock_Index_Price\n",
       "19  False  False          False              False              False\n",
       "20  False  False          False              False              False\n",
       "21  False  False          False              False              False\n",
       "22  False  False          False              False              False\n",
       "23  False  False          False              False              False>"
      ]
     },
     "execution_count": 7,
     "metadata": {},
     "output_type": "execute_result"
    }
   ],
   "source": [
    "# missing data 존재여부 확인\n",
    "\n",
    "# df.isna().any() # 전체 셀 출력\n",
    "df.isna().tail().any"
   ]
  },
  {
   "cell_type": "code",
   "execution_count": 8,
   "metadata": {},
   "outputs": [
    {
     "data": {
      "text/plain": [
       "Year                 0\n",
       "Month                0\n",
       "Interest_Rate        0\n",
       "Unemployment_Rate    0\n",
       "Stock_Index_Price    0\n",
       "dtype: int64"
      ]
     },
     "execution_count": 8,
     "metadata": {},
     "output_type": "execute_result"
    }
   ],
   "source": [
    "# 컬럼별 missing data 갯수 확인\n",
    "df.isna().sum()"
   ]
  },
  {
   "cell_type": "code",
   "execution_count": 38,
   "metadata": {},
   "outputs": [
    {
     "data": {
      "text/plain": [
       "0"
      ]
     },
     "execution_count": 38,
     "metadata": {},
     "output_type": "execute_result"
    }
   ],
   "source": [
    "# any missing overall?\n",
    "\n",
    "df.isna().sum().sum()"
   ]
  },
  {
   "cell_type": "code",
   "execution_count": 39,
   "metadata": {},
   "outputs": [
    {
     "data": {
      "text/plain": [
       "0"
      ]
     },
     "execution_count": 39,
     "metadata": {},
     "output_type": "execute_result"
    }
   ],
   "source": [
    "# 응용연습: Unemployment_Rate 컬럼에만 missing data 갯수 확인하려면?\n",
    "\n",
    "df['Unemployment_Rate'].isna().sum()\n",
    "\n",
    "# 응용연습: Unemployment_Rate와 Interest_Rate 두 컬럼에 대해서 missing data 갯수 확인하려면?"
   ]
  },
  {
   "cell_type": "code",
   "execution_count": 56,
   "metadata": {},
   "outputs": [
    {
     "name": "stdout",
     "output_type": "stream",
     "text": [
      "Data type of each column of Dataframe :\n",
      "Year                   int64\n",
      "Month                  int64\n",
      "Interest_Rate        float64\n",
      "Unemployment_Rate    float64\n",
      "Stock_Index_Price      int64\n",
      "dtype: object\n"
     ]
    },
    {
     "data": {
      "text/html": [
       "<div>\n",
       "<style scoped>\n",
       "    .dataframe tbody tr th:only-of-type {\n",
       "        vertical-align: middle;\n",
       "    }\n",
       "\n",
       "    .dataframe tbody tr th {\n",
       "        vertical-align: top;\n",
       "    }\n",
       "\n",
       "    .dataframe thead th {\n",
       "        text-align: right;\n",
       "    }\n",
       "</style>\n",
       "<table border=\"1\" class=\"dataframe\">\n",
       "  <thead>\n",
       "    <tr style=\"text-align: right;\">\n",
       "      <th></th>\n",
       "      <th>Year</th>\n",
       "      <th>Month</th>\n",
       "      <th>Interest_Rate</th>\n",
       "      <th>Unemployment_Rate</th>\n",
       "      <th>Stock_Index_Price</th>\n",
       "    </tr>\n",
       "  </thead>\n",
       "  <tbody>\n",
       "    <tr>\n",
       "      <th>0</th>\n",
       "      <td>2016</td>\n",
       "      <td>1</td>\n",
       "      <td>1.75</td>\n",
       "      <td>6.1</td>\n",
       "      <td>719</td>\n",
       "    </tr>\n",
       "    <tr>\n",
       "      <th>1</th>\n",
       "      <td>2016</td>\n",
       "      <td>2</td>\n",
       "      <td>1.75</td>\n",
       "      <td>6.2</td>\n",
       "      <td>704</td>\n",
       "    </tr>\n",
       "    <tr>\n",
       "      <th>2</th>\n",
       "      <td>2016</td>\n",
       "      <td>3</td>\n",
       "      <td>1.75</td>\n",
       "      <td>6.2</td>\n",
       "      <td>822</td>\n",
       "    </tr>\n",
       "    <tr>\n",
       "      <th>3</th>\n",
       "      <td>2016</td>\n",
       "      <td>4</td>\n",
       "      <td>1.75</td>\n",
       "      <td>5.9</td>\n",
       "      <td>876</td>\n",
       "    </tr>\n",
       "    <tr>\n",
       "      <th>4</th>\n",
       "      <td>2016</td>\n",
       "      <td>5</td>\n",
       "      <td>1.75</td>\n",
       "      <td>6.1</td>\n",
       "      <td>866</td>\n",
       "    </tr>\n",
       "  </tbody>\n",
       "</table>\n",
       "</div>"
      ],
      "text/plain": [
       "   Year  Month  Interest_Rate  Unemployment_Rate  Stock_Index_Price\n",
       "0  2016      1           1.75                6.1                719\n",
       "1  2016      2           1.75                6.2                704\n",
       "2  2016      3           1.75                6.2                822\n",
       "3  2016      4           1.75                5.9                876\n",
       "4  2016      5           1.75                6.1                866"
      ]
     },
     "execution_count": 56,
     "metadata": {},
     "output_type": "execute_result"
    }
   ],
   "source": [
    "# 컬럼별 데이터 타입 확인\n",
    "\n",
    "dataTypeSeries = df.dtypes\n",
    "print('Data type of each column of Dataframe :')\n",
    "print(dataTypeSeries)\n",
    "\n",
    "# int64 또는 floa64 즉 숫자 형식의 컬럼만 추출\n",
    "df.select_dtypes(include=['int64', 'float64']).head()"
   ]
  },
  {
   "cell_type": "code",
   "execution_count": 11,
   "metadata": {},
   "outputs": [
    {
     "data": {
      "text/plain": [
       "[<matplotlib.lines.Line2D at 0x2afa06a0288>]"
      ]
     },
     "execution_count": 11,
     "metadata": {},
     "output_type": "execute_result"
    },
    {
     "data": {
      "image/png": "[encoded data removed]",
      "text/plain": [
       "<Figure size 432x288 with 1 Axes>"
      ]
     },
     "metadata": {
      "needs_background": "light"
     },
     "output_type": "display_data"
    }
   ],
   "source": [
    "# 컬럼별 시각적 분포 확인\n",
    "\n",
    "# 수치형 데이터인 경우\n",
    "\n",
    "plt.plot(df.Unemployment_Rate,'o-')"
   ]
  },
  {
   "cell_type": "code",
   "execution_count": 12,
   "metadata": {},
   "outputs": [
    {
     "data": {
      "text/plain": [
       "<matplotlib.axes._subplots.AxesSubplot at 0x2afa1d95448>"
      ]
     },
     "execution_count": 12,
     "metadata": {},
     "output_type": "execute_result"
    },
    {
     "data": {
      "image/png": "[encoded data removed]",
      "text/plain": [
       "<Figure size 432x288 with 1 Axes>"
      ]
     },
     "metadata": {
      "needs_background": "light"
     },
     "output_type": "display_data"
    }
   ],
   "source": [
    "# pandas 함수를 바로 사용하는 경우\n",
    "\n",
    "df.Unemployment_Rate.plot()"
   ]
  },
  {
   "cell_type": "code",
   "execution_count": 13,
   "metadata": {},
   "outputs": [
    {
     "data": {
      "image/png": "[encoded data removed]",
      "text/plain": [
       "<Figure size 720x216 with 1 Axes>"
      ]
     },
     "metadata": {
      "needs_background": "light"
     },
     "output_type": "display_data"
    }
   ],
   "source": [
    "# 플롯의 X축에 연월 year-month 표시\n",
    "\n",
    "df['date'] = df['Year'].map(str)+'-'+df['Month'].map(str)\n",
    "df['date'] = pd.to_datetime(df['date'], format='%Y-%m').dt.strftime('%y-%m')\n",
    "\n",
    "fig, ax = plt.subplots(figsize=(10,3))\n",
    "plt.plot(df['date'], df.Stock_Index_Price, 'o-')\n",
    "\n",
    "# X축 틱만 폰트를 줄이기 위한 (글자가 겹쳐 보이는 문제 해결)\n",
    "ax.tick_params(axis='x', which='major', labelsize=8)\n",
    "plt.title('Stock Price Index')\n",
    "plt.show()"
   ]
  },
  {
   "cell_type": "code",
   "execution_count": null,
   "metadata": {},
   "outputs": [],
   "source": []
  },
  {
   "cell_type": "code",
   "execution_count": 14,
   "metadata": {},
   "outputs": [
    {
     "data": {
      "text/plain": [
       "Text(5.8, 1400, 'red: recent months')"
      ]
     },
     "execution_count": 14,
     "metadata": {},
     "output_type": "execute_result"
    },
    {
     "data": {
      "image/png": "[encoded data removed]",
      "text/plain": [
       "<Figure size 432x288 with 1 Axes>"
      ]
     },
     "metadata": {
      "needs_background": "light"
     },
     "output_type": "display_data"
    }
   ],
   "source": [
    "# Scatter Plot 스캐터 플롯 산점도\n",
    "# 두 변수간 관계를 시각적으로 검토\n",
    "\n",
    "colors1 = ['red' if x>=16 else 'grey' for x in df.index]\n",
    "plt.scatter(df.Unemployment_Rate, df.Stock_Index_Price,\n",
    "           color=colors1,\n",
    "           alpha=0.5)\n",
    "plt.xlabel('Unemployement Rate')\n",
    "plt.ylabel('Stock Price Index')\n",
    "plt.text(5.8,1400,'red: recent months')"
   ]
  },
  {
   "cell_type": "markdown",
   "metadata": {},
   "source": [
    "- [연습문제] 실업률과 이자율간의 관계를 본다면?\n"
   ]
  },
  {
   "cell_type": "code",
   "execution_count": 15,
   "metadata": {},
   "outputs": [
    {
     "data": {
      "image/png": "[encoded data removed]",
      "text/plain": [
       "<Figure size 432x288 with 1 Axes>"
      ]
     },
     "metadata": {
      "needs_background": "light"
     },
     "output_type": "display_data"
    }
   ],
   "source": [
    "# xlim ylim 조절 - 0을 기준점으로 삼아 변화를 지나치게 크게 인식하는 문제 해소\n",
    "\n",
    "plt.scatter(df.Unemployment_Rate, df.Stock_Index_Price,\n",
    "           color=colors1,\n",
    "           alpha=0.5)\n",
    "plt.xlabel('Unemployement Rate %')\n",
    "plt.ylabel('Stock Price Index')\n",
    "plt.xlim(0,df.Unemployment_Rate.max()*1.05) # 최대보다 5% 큰 값 까지로 챠트 영역 설정\n",
    "plt.ylim(0,df.Stock_Index_Price.max()*1.05)\n",
    "# 보조선 추가 - 최소값\n",
    "plt.axvline(df.Unemployment_Rate.min(), color='k', linestyle='--')\n",
    "plt.axhline(df.Stock_Index_Price.min(), color='k', linestyle='dotted')\n",
    "plt.text(1, df.Stock_Index_Price.min()*1.05, \n",
    "        'note: lines are mins', color='blue')\n",
    "plt.show()"
   ]
  },
  {
   "cell_type": "code",
   "execution_count": 16,
   "metadata": {},
   "outputs": [
    {
     "data": {
      "image/png": "[encoded data removed]",
      "text/plain": [
       "<Figure size 720x216 with 1 Axes>"
      ]
     },
     "metadata": {
      "needs_background": "light"
     },
     "output_type": "display_data"
    }
   ],
   "source": [
    "# bar plot 막대그래프\n",
    "\n",
    "fig, ax = plt.subplots(figsize=(10,3))\n",
    "plt.bar(df['date'], df.Stock_Index_Price, alpha=0.5)\n",
    "\n",
    "# X축 틱만 폰트를 줄이기 위한 (글자가 겹쳐 보이는 문제 해결)\n",
    "ax.tick_params(axis='x', which='major', labelsize=8)\n",
    "plt.title('Stock Price Index')\n",
    "plt.xlabel('Month') ; plt.ylabel('Index')\n",
    "plt.show()"
   ]
  },
  {
   "cell_type": "code",
   "execution_count": 17,
   "metadata": {},
   "outputs": [
    {
     "data": {
      "image/png": "[encoded data removed]",
      "text/plain": [
       "<Figure size 720x216 with 1 Axes>"
      ]
     },
     "metadata": {
      "needs_background": "light"
     },
     "output_type": "display_data"
    }
   ],
   "source": [
    "fig, ax = plt.subplots(figsize=(10,3))\n",
    "plt.bar(df.date, df.Stock_Index_Price)\n",
    "\n",
    "# 플롯을 추가 (overlay)\n",
    "plt.plot(range(24),np.repeat(1000,24), 'o-', color='grey')\n",
    "ax.tick_params(axis='x', which='major', labelsize=7)\n",
    "plt.show()"
   ]
  },
  {
   "cell_type": "code",
   "execution_count": 18,
   "metadata": {},
   "outputs": [
    {
     "data": {
      "text/plain": [
       "(array([5., 5., 2., 4., 8.]),\n",
       " array([5.3 , 5.48, 5.66, 5.84, 6.02, 6.2 ]),\n",
       " <a list of 5 Patch objects>)"
      ]
     },
     "execution_count": 18,
     "metadata": {},
     "output_type": "execute_result"
    },
    {
     "data": {
      "image/png": "[encoded data removed]",
      "text/plain": [
       "<Figure size 432x288 with 1 Axes>"
      ]
     },
     "metadata": {
      "needs_background": "light"
     },
     "output_type": "display_data"
    }
   ],
   "source": [
    "# histogram\n",
    "\n",
    "plt.hist(df.Unemployment_Rate, bins=5)"
   ]
  },
  {
   "cell_type": "code",
   "execution_count": 19,
   "metadata": {},
   "outputs": [
    {
     "data": {
      "image/png": "[encoded data removed]",
      "text/plain": [
       "<Figure size 432x288 with 1 Axes>"
      ]
     },
     "metadata": {
      "needs_background": "light"
     },
     "output_type": "display_data"
    }
   ],
   "source": [
    "# 복수의 히스토그램을 하나의 챠트에 표현\n",
    "\n",
    "bins = np.linspace(4, 7, 14)\n",
    "# 지정한 구간 내에서 지정한 갯수로 구간을 구분\n",
    "\n",
    "plt.hist(df.Unemployment_Rate, bins=bins, alpha=0.5, label=\"Unemployment_Rate\")\n",
    "# 겹치는 예를 보기 위해 임시로 이동\n",
    "plt.hist(df.Interest_Rate+3, bins=bins, alpha=0.5, label=\"Interest_Rate\")\n",
    "# 겹쳐도 보여지도록 투명도를 조절\n",
    "plt.legend(loc='upper right')\n",
    "plt.show()"
   ]
  },
  {
   "cell_type": "code",
   "execution_count": 20,
   "metadata": {},
   "outputs": [
    {
     "data": {
      "image/png": "[encoded data removed]",
      "text/plain": [
       "<Figure size 432x288 with 1 Axes>"
      ]
     },
     "metadata": {
      "needs_background": "light"
     },
     "output_type": "display_data"
    }
   ],
   "source": [
    "# side-by-side histogram\n",
    "# 겹쳐서 구별이 안되는 경우에 대한 처리\n",
    "\n",
    "bins = np.linspace(5, 6.5, 10)\n",
    "# 지정한 구간 내에서 지정한 갯수로 구간을 구분\n",
    "\n",
    "plt.hist([df.Unemployment_Rate, df.Interest_Rate+3.5], bins=bins, alpha=0.5)\n",
    "# 구간이 겹치는 예제로 바꾸기 위해 이자율의 분포를 이동시킨 것\n",
    "plt.legend(['Unemployment_Rate', 'Interest_Rate'], loc='upper right')\n",
    "plt.show()"
   ]
  },
  {
   "cell_type": "code",
   "execution_count": 21,
   "metadata": {},
   "outputs": [],
   "source": [
    "# matplotlib 에서 한글을 표시하기 위한 설정\n",
    "import matplotlib\n",
    "\n",
    "font_name = matplotlib.font_manager.FontProperties(\n",
    "                fname=\"c:/Windows/Fonts/malgun.ttf\"  # 윈도우즈의 한글 폰트 위치를 지정\n",
    "            ).get_name()\n",
    "matplotlib.rc('font', family=font_name) # 한글 표시 가능하도록 폰트 지정 \n",
    "matplotlib.rcParams['axes.unicode_minus'] = False #  음수를 나타내는 '-' 부호가 정상 표시되도록"
   ]
  },
  {
   "cell_type": "code",
   "execution_count": 176,
   "metadata": {},
   "outputs": [
    {
     "data": {
      "image/png": "[encoded data removed]",
      "text/plain": [
       "<Figure size 2000x600 with 1 Axes>"
      ]
     },
     "metadata": {
      "needs_background": "light"
     },
     "output_type": "display_data"
    }
   ],
   "source": [
    "# matplotlib에서 한글 라벨 표시 적용 예제\n",
    "\n",
    "bins = np.linspace(-3, 1, 15)\n",
    "\n",
    "plt.figure(dpi=200, figsize=(10,3))\n",
    "# dpi 옵션은 해상도 조절 -- 선명하게\n",
    "\n",
    "plt.hist([df.Unemployment_Rate-7, df.Interest_Rate-4], bins=bins, alpha=0.5)\n",
    "plt.legend(['실업률', '이자율'], loc='upper right')\n",
    "plt.ylabel('돗수')\n",
    "plt.xlabel('값')\n",
    "plt.title('한글로 분포 확인 예제')\n",
    "plt.show()"
   ]
  },
  {
   "cell_type": "code",
   "execution_count": 23,
   "metadata": {},
   "outputs": [
    {
     "data": {
      "image/png": "[encoded data removed]",
      "text/plain": [
       "<Figure size 432x288 with 1 Axes>"
      ]
     },
     "metadata": {
      "needs_background": "light"
     },
     "output_type": "display_data"
    }
   ],
   "source": [
    "# density plot using pandas\n",
    "\n",
    "df.Unemployment_Rate.hist()\n",
    "df.Unemployment_Rate.plot.density()\n",
    "plt.show()"
   ]
  },
  {
   "cell_type": "code",
   "execution_count": 24,
   "metadata": {},
   "outputs": [
    {
     "data": {
      "text/plain": [
       "<matplotlib.axes._subplots.AxesSubplot at 0x2afa3be5d08>"
      ]
     },
     "execution_count": 24,
     "metadata": {},
     "output_type": "execute_result"
    },
    {
     "data": {
      "image/png": "[encoded data removed]",
      "text/plain": [
       "<Figure size 432x288 with 1 Axes>"
      ]
     },
     "metadata": {
      "needs_background": "light"
     },
     "output_type": "display_data"
    }
   ],
   "source": [
    "# Density Plot and Histogram using seaborn (SNS)\n",
    "\n",
    "import seaborn as sns\n",
    "\n",
    "sns.distplot(df.Unemployment_Rate, hist=True, kde=True, \n",
    "             bins=10, color = 'darkblue', \n",
    "             hist_kws={'edgecolor':'black'},\n",
    "             kde_kws={'linewidth': 4})"
   ]
  },
  {
   "cell_type": "code",
   "execution_count": 25,
   "metadata": {},
   "outputs": [
    {
     "data": {
      "image/png": "[encoded data removed]",
      "text/plain": [
       "<Figure size 432x288 with 1 Axes>"
      ]
     },
     "metadata": {
      "needs_background": "light"
     },
     "output_type": "display_data"
    }
   ],
   "source": [
    "# boxplot\n",
    "\n",
    "plt.boxplot(df.Unemployment_Rate)\n",
    "plt.show()"
   ]
  },
  {
   "cell_type": "code",
   "execution_count": 26,
   "metadata": {},
   "outputs": [
    {
     "data": {
      "image/png": "[encoded data removed]",
      "text/plain": [
       "<Figure size 432x288 with 1 Axes>"
      ]
     },
     "metadata": {
      "needs_background": "light"
     },
     "output_type": "display_data"
    }
   ],
   "source": [
    "plt.boxplot([df.Unemployment_Rate, df.Interest_Rate*2])\n",
    "\n",
    "# 1번은 실업률, 2번은 이자율로 x축 값 변경\n",
    "plt.xticks([1,2], ['Unemployment_Rate', 'Interest_Rate'])\n",
    "plt.show()"
   ]
  },
  {
   "cell_type": "code",
   "execution_count": 27,
   "metadata": {},
   "outputs": [
    {
     "name": "stdout",
     "output_type": "stream",
     "text": [
      "median :  5.85\n",
      "\n",
      "max :  6.2\n",
      "mean :  5.775000000000001\n",
      " \n",
      "0.25    5.5\n",
      "0.75    6.1\n",
      "Name: Unemployment_Rate, dtype: float64\n"
     ]
    }
   ],
   "source": [
    "# 중위수와 4분위수 산출\n",
    "\n",
    "# 중위수 \n",
    "print('median : ', df.Unemployment_Rate.median())\n",
    "\n",
    "# 최대값\n",
    "print('\\nmax : ', df.Unemployment_Rate.max())\n",
    "# [\\n] 은 줄바꿈\n",
    "\n",
    "# 평균\n",
    "print('mean : ', df.Unemployment_Rate.mean())\n",
    "print(' ')\n",
    "\n",
    "# 하위 25% 지점\n",
    "print(df.Unemployment_Rate.quantile(q=[0.25,0.75]))\n"
   ]
  },
  {
   "cell_type": "markdown",
   "metadata": {},
   "source": [
    "[Jump] mtcars 연습을 먼저 한 후 이어서 아래 부분으로"
   ]
  },
  {
   "cell_type": "code",
   "execution_count": 73,
   "metadata": {},
   "outputs": [
    {
     "data": {
      "text/html": [
       "<div>\n",
       "<style scoped>\n",
       "    .dataframe tbody tr th:only-of-type {\n",
       "        vertical-align: middle;\n",
       "    }\n",
       "\n",
       "    .dataframe tbody tr th {\n",
       "        vertical-align: top;\n",
       "    }\n",
       "\n",
       "    .dataframe thead th {\n",
       "        text-align: right;\n",
       "    }\n",
       "</style>\n",
       "<table border=\"1\" class=\"dataframe\">\n",
       "  <thead>\n",
       "    <tr style=\"text-align: right;\">\n",
       "      <th></th>\n",
       "      <th>team</th>\n",
       "      <th>location</th>\n",
       "      <th>hr</th>\n",
       "      <th>obp</th>\n",
       "      <th>slg</th>\n",
       "      <th>lastWSwin</th>\n",
       "    </tr>\n",
       "  </thead>\n",
       "  <tbody>\n",
       "    <tr>\n",
       "      <th>0</th>\n",
       "      <td>Dodgers</td>\n",
       "      <td>LA</td>\n",
       "      <td>118</td>\n",
       "      <td>0.338</td>\n",
       "      <td>0.483</td>\n",
       "      <td>2020.0</td>\n",
       "    </tr>\n",
       "    <tr>\n",
       "      <th>1</th>\n",
       "      <td>Padres</td>\n",
       "      <td>San Diego</td>\n",
       "      <td>95</td>\n",
       "      <td>0.333</td>\n",
       "      <td>0.466</td>\n",
       "      <td>NaN</td>\n",
       "    </tr>\n",
       "    <tr>\n",
       "      <th>2</th>\n",
       "      <td>Giants</td>\n",
       "      <td>San Francisco</td>\n",
       "      <td>81</td>\n",
       "      <td>0.335</td>\n",
       "      <td>0.451</td>\n",
       "      <td>2014.0</td>\n",
       "    </tr>\n",
       "    <tr>\n",
       "      <th>3</th>\n",
       "      <td>Rockies</td>\n",
       "      <td>Colorado</td>\n",
       "      <td>63</td>\n",
       "      <td>0.311</td>\n",
       "      <td>0.405</td>\n",
       "      <td>2007.0</td>\n",
       "    </tr>\n",
       "    <tr>\n",
       "      <th>4</th>\n",
       "      <td>Diamondbacks</td>\n",
       "      <td>Arizona</td>\n",
       "      <td>58</td>\n",
       "      <td>0.312</td>\n",
       "      <td>0.391</td>\n",
       "      <td>2001.0</td>\n",
       "    </tr>\n",
       "  </tbody>\n",
       "</table>\n",
       "</div>"
      ],
      "text/plain": [
       "           team       location   hr    obp    slg  lastWSwin\n",
       "0       Dodgers             LA  118  0.338  0.483     2020.0\n",
       "1        Padres      San Diego   95  0.333  0.466        NaN\n",
       "2        Giants  San Francisco   81  0.335  0.451     2014.0\n",
       "3       Rockies       Colorado   63  0.311  0.405     2007.0\n",
       "4  Diamondbacks        Arizona   58  0.312  0.391     2001.0"
      ]
     },
     "execution_count": 73,
     "metadata": {},
     "output_type": "execute_result"
    }
   ],
   "source": [
    "# categorical data for EDA\n",
    "\n",
    "# National League Western League - MLB\n",
    "\n",
    "nlwteam = pd.DataFrame({'team': ['Dodgers', 'Padres', 'Giants', 'Rockies', 'Diamondbacks'],\n",
    "            'location': ['LA', 'San Diego', 'San Francisco' , 'Colorado',  'Arizona'],\n",
    "            'hr': [118, 95, 81, 63, 58],\n",
    "            'obp': [.338, .333, .335, .311, .312],\n",
    "            'slg': [.483, .466, .451, .405, .391],\n",
    "            'lastWSwin': [ 2020, np.nan, 2014, 2007, 2001]})\n",
    "\n",
    "nlwteam "
   ]
  },
  {
   "cell_type": "code",
   "execution_count": 84,
   "metadata": {},
   "outputs": [
    {
     "data": {
      "image/png": "[encoded data removed]",
      "text/plain": [
       "<Figure size 432x288 with 1 Axes>"
      ]
     },
     "metadata": {
      "needs_background": "light"
     },
     "output_type": "display_data"
    }
   ],
   "source": [
    "plt.bar(nlwteam.team, nlwteam.hr)\n",
    "plt.ylabel('HR')\n",
    "plt.show()"
   ]
  },
  {
   "cell_type": "code",
   "execution_count": 75,
   "metadata": {},
   "outputs": [
    {
     "data": {
      "text/plain": [
       "<matplotlib.legend.Legend at 0x2afa461c088>"
      ]
     },
     "execution_count": 75,
     "metadata": {},
     "output_type": "execute_result"
    },
    {
     "data": {
      "image/png": "[encoded data removed]",
      "text/plain": [
       "<Figure size 432x288 with 1 Axes>"
      ]
     },
     "metadata": {
      "needs_background": "light"
     },
     "output_type": "display_data"
    }
   ],
   "source": [
    "plt.bar(nlwteam.team, nlwteam.obp, alpha=0.5)\n",
    "plt.bar(nlwteam.team, nlwteam.slg, alpha=0.5)\n",
    "plt.legend(['OBP','Sluuging'])"
   ]
  },
  {
   "cell_type": "code",
   "execution_count": 83,
   "metadata": {},
   "outputs": [
    {
     "data": {
      "image/png": "[encoded data removed]",
      "text/plain": [
       "<Figure size 720x216 with 1 Axes>"
      ]
     },
     "metadata": {
      "needs_background": "light"
     },
     "output_type": "display_data"
    }
   ],
   "source": [
    "# Side-by-Side Bar Chart\n",
    "\n",
    "# Numbers of pairs of bars you want\n",
    "N = len(nlwteam)\n",
    "\n",
    "# Data on X-axis\n",
    "\n",
    "# Specify the values of blue bars (height)\n",
    "blue_bar = nlwteam.obp\n",
    "# Specify the values of orange bars (height)\n",
    "orange_bar = nlwteam.slg\n",
    "\n",
    "# Position of bars on x-axis\n",
    "ind = np.arange(N)\n",
    "\n",
    "# Figure size\n",
    "plt.figure(figsize=(10,3))\n",
    "\n",
    "# Width of a bar \n",
    "width = 0.3       \n",
    "\n",
    "# Plotting\n",
    "plt.bar(ind, blue_bar , width, label='On Base Percentage')\n",
    "plt.bar(ind + width, orange_bar, width, label='Sluggig')\n",
    "\n",
    "plt.xlabel('Team')\n",
    "plt.title('MLB NL West Team Hitting Stat 2020')\n",
    "\n",
    "# xticks()\n",
    "# First argument - A list of positions at which ticks should be placed\n",
    "# Second argument -  A list of labels to place at the given locations\n",
    "plt.xticks(ind + width / 2, nlwteam.team)\n",
    "\n",
    "# Finding the best position for legends and putting it\n",
    "plt.legend(loc='best')\n",
    "plt.show()"
   ]
  },
  {
   "cell_type": "code",
   "execution_count": 126,
   "metadata": {},
   "outputs": [
    {
     "data": {
      "image/png": "[encoded data removed]",
      "text/plain": [
       "<Figure size 432x288 with 1 Axes>"
      ]
     },
     "metadata": {
      "needs_background": "light"
     },
     "output_type": "display_data"
    }
   ],
   "source": [
    "# Stacked Bard Chart\n",
    "\n",
    "width = 0.35       # the width of the bars: can also be len(x) sequence\n",
    "\n",
    "fig, ax = plt.subplots()\n",
    "\n",
    "ax.bar(nlwteam.team, nlwteam.obp, width, label='OBP')\n",
    "ax.bar(nlwteam.team, nlwteam.slg, width, bottom=nlwteam.obp,\n",
    "       label='SLG')\n",
    "\n",
    "ax.set_ylabel('OPS')\n",
    "ax.set_title('NLW Team Stat 2020 - OPS')\n",
    "ax.legend()\n",
    "plt.axhline(0.8, linestyle='dotted', color='silver')\n",
    "plt.show()"
   ]
  },
  {
   "cell_type": "code",
   "execution_count": 107,
   "metadata": {},
   "outputs": [
    {
     "data": {
      "image/png": "[encoded data removed]",
      "text/plain": [
       "<Figure size 432x288 with 1 Axes>"
      ]
     },
     "metadata": {
      "needs_background": "light"
     },
     "output_type": "display_data"
    }
   ],
   "source": [
    "# Use Scatter Plot\n",
    "\n",
    "ops = nlwteam.obp + nlwteam.slg\n",
    "colors1 = ['red' if x>ops.mean() else 'blue' for x in ops]\n",
    "\n",
    "plt.scatter(nlwteam.obp, nlwteam.slg, \n",
    "            s=ops *200,\n",
    "           alpha=0.5,\n",
    "           color=colors1)\n",
    "plt.xlim(0.25,nlwteam.obp.max()*1.03)\n",
    "plt.ylim(0.3,nlwteam.slg.max()*1.03)\n",
    "plt.axvline(nlwteam.obp.mean(), linestyle='dotted', color='silver')\n",
    "plt.axhline(nlwteam.slg.mean(), linestyle='dotted', color='silver')\n",
    "plt.xlabel('On Base Percentage')\n",
    "plt.ylabel('Slugging')\n",
    "\n",
    "# Point Label 표시\n",
    "for i in range(len(nlwteam)):\n",
    "    plt.text(nlwteam.obp[i], nlwteam.slg[i], nlwteam.location[i])\n",
    "plt.show()"
   ]
  },
  {
   "cell_type": "code",
   "execution_count": 108,
   "metadata": {},
   "outputs": [
    {
     "data": {
      "text/html": [
       "<div>\n",
       "<style scoped>\n",
       "    .dataframe tbody tr th:only-of-type {\n",
       "        vertical-align: middle;\n",
       "    }\n",
       "\n",
       "    .dataframe tbody tr th {\n",
       "        vertical-align: top;\n",
       "    }\n",
       "\n",
       "    .dataframe thead th {\n",
       "        text-align: right;\n",
       "    }\n",
       "</style>\n",
       "<table border=\"1\" class=\"dataframe\">\n",
       "  <thead>\n",
       "    <tr style=\"text-align: right;\">\n",
       "      <th></th>\n",
       "      <th>obp</th>\n",
       "      <th>hr</th>\n",
       "      <th>slg</th>\n",
       "    </tr>\n",
       "  </thead>\n",
       "  <tbody>\n",
       "    <tr>\n",
       "      <th>obp</th>\n",
       "      <td>1.000000</td>\n",
       "      <td>0.880083</td>\n",
       "      <td>0.961764</td>\n",
       "    </tr>\n",
       "    <tr>\n",
       "      <th>hr</th>\n",
       "      <td>0.880083</td>\n",
       "      <td>1.000000</td>\n",
       "      <td>0.959458</td>\n",
       "    </tr>\n",
       "    <tr>\n",
       "      <th>slg</th>\n",
       "      <td>0.961764</td>\n",
       "      <td>0.959458</td>\n",
       "      <td>1.000000</td>\n",
       "    </tr>\n",
       "  </tbody>\n",
       "</table>\n",
       "</div>"
      ],
      "text/plain": [
       "          obp        hr       slg\n",
       "obp  1.000000  0.880083  0.961764\n",
       "hr   0.880083  1.000000  0.959458\n",
       "slg  0.961764  0.959458  1.000000"
      ]
     },
     "execution_count": 108,
     "metadata": {},
     "output_type": "execute_result"
    }
   ],
   "source": [
    "# 변수간 상관관계 확인\n",
    "\n",
    "nlwteam[['obp','hr','slg']].corr()"
   ]
  },
  {
   "cell_type": "code",
   "execution_count": 121,
   "metadata": {},
   "outputs": [
    {
     "name": "stdout",
     "output_type": "stream",
     "text": [
      "nlwteam.hr, ops 상관관계 0.9464\n",
      "ops, 순위 상관관계 0.9628\n",
      "홈런, 순위 상관관계 0.9816\n"
     ]
    }
   ],
   "source": [
    "# 홈런과 OPS(=OBP+SLG) 간 상관관계 확인\n",
    "\n",
    "print('nlwteam.hr, ops 상관관계', round(np.corrcoef(nlwteam.hr, ops)[0,1],4))\n",
    "print('ops, 순위 상관관계', round(np.corrcoef(ops, -nlwteam.index)[0,1],4))\n",
    "print('홈런, 순위 상관관계', round(np.corrcoef(nlwteam.hr, -nlwteam.index)[0,1],4))"
   ]
  },
  {
   "cell_type": "code",
   "execution_count": 133,
   "metadata": {},
   "outputs": [
    {
     "name": "stdout",
     "output_type": "stream",
     "text": [
      "hr  :  0.9816\n",
      "obp  :  0.8878\n",
      "slg  :  0.9785\n",
      "ops  :  0.9628\n"
     ]
    },
    {
     "data": {
      "image/png": "[encoded data removed]",
      "text/plain": [
       "<Figure size 432x288 with 1 Axes>"
      ]
     },
     "metadata": {
      "needs_background": "light"
     },
     "output_type": "display_data"
    }
   ],
   "source": [
    "# 어떤 지표가 순위와 가장 상관관계가 큰가?\n",
    "\n",
    "nlwteam['ops'] = ops\n",
    "\n",
    "# 결과를 저장할 배열을 미리 생성\n",
    "corrvals = np.repeat(0.00, 4)\n",
    "# 지표 리스트 생성\n",
    "indicators = ['hr','obp','slg', 'ops']\n",
    "\n",
    "# list and index 동시에 필요\n",
    "for i in range(len(indicators)):\n",
    "    corrvals[i] = round(np.corrcoef(-nlwteam.index, nlwteam[indicators[i]])[0,1],4)\n",
    "    print(indicators[i], ' : ', corrvals[i])\n",
    "\n",
    "plt.bar(indicators,corrvals);"
   ]
  },
  {
   "cell_type": "code",
   "execution_count": 175,
   "metadata": {},
   "outputs": [
    {
     "name": "stdout",
     "output_type": "stream",
     "text": [
      "0.981564851634863\n",
      "0.981564851634863\n",
      "0.9815648516348631\n"
     ]
    }
   ],
   "source": [
    "# 상관관계 개념 복습\n",
    "\n",
    "print(np.corrcoef(-nlwteam.index, nlwteam.hr)[0,1])\n",
    "print(np.corrcoef(-nlwteam.index+1, nlwteam.hr)[0,1])\n",
    "print(np.corrcoef(-nlwteam.index*9, nlwteam.hr-500)[0,1])\n",
    "\n",
    "# 상관계수 값은 Scale에 영향받지 않음"
   ]
  },
  {
   "cell_type": "code",
   "execution_count": 143,
   "metadata": {},
   "outputs": [
    {
     "data": {
      "text/html": [
       "<div>\n",
       "<style scoped>\n",
       "    .dataframe tbody tr th:only-of-type {\n",
       "        vertical-align: middle;\n",
       "    }\n",
       "\n",
       "    .dataframe tbody tr th {\n",
       "        vertical-align: top;\n",
       "    }\n",
       "\n",
       "    .dataframe thead th {\n",
       "        text-align: right;\n",
       "    }\n",
       "</style>\n",
       "<table border=\"1\" class=\"dataframe\">\n",
       "  <thead>\n",
       "    <tr style=\"text-align: right;\">\n",
       "      <th></th>\n",
       "      <th>Year</th>\n",
       "      <th>Month</th>\n",
       "      <th>Interest_Rate</th>\n",
       "      <th>Unemployment_Rate</th>\n",
       "      <th>Stock_Index_Price</th>\n",
       "    </tr>\n",
       "  </thead>\n",
       "  <tbody>\n",
       "    <tr>\n",
       "      <th>0</th>\n",
       "      <td>2016</td>\n",
       "      <td>1</td>\n",
       "      <td>1.75</td>\n",
       "      <td>6.1</td>\n",
       "      <td>719</td>\n",
       "    </tr>\n",
       "    <tr>\n",
       "      <th>1</th>\n",
       "      <td>2016</td>\n",
       "      <td>2</td>\n",
       "      <td>1.75</td>\n",
       "      <td>6.2</td>\n",
       "      <td>704</td>\n",
       "    </tr>\n",
       "    <tr>\n",
       "      <th>2</th>\n",
       "      <td>2016</td>\n",
       "      <td>3</td>\n",
       "      <td>1.75</td>\n",
       "      <td>6.2</td>\n",
       "      <td>822</td>\n",
       "    </tr>\n",
       "    <tr>\n",
       "      <th>3</th>\n",
       "      <td>2016</td>\n",
       "      <td>4</td>\n",
       "      <td>1.75</td>\n",
       "      <td>5.9</td>\n",
       "      <td>876</td>\n",
       "    </tr>\n",
       "    <tr>\n",
       "      <th>4</th>\n",
       "      <td>2016</td>\n",
       "      <td>5</td>\n",
       "      <td>1.75</td>\n",
       "      <td>6.1</td>\n",
       "      <td>866</td>\n",
       "    </tr>\n",
       "  </tbody>\n",
       "</table>\n",
       "</div>"
      ],
      "text/plain": [
       "   Year  Month  Interest_Rate  Unemployment_Rate  Stock_Index_Price\n",
       "0  2016      1           1.75                6.1                719\n",
       "1  2016      2           1.75                6.2                704\n",
       "2  2016      3           1.75                6.2                822\n",
       "3  2016      4           1.75                5.9                876\n",
       "4  2016      5           1.75                6.1                866"
      ]
     },
     "execution_count": 143,
     "metadata": {},
     "output_type": "execute_result"
    }
   ],
   "source": [
    "# scaling\n",
    "\n",
    "# min-max scaling ; zero-max scaling\n",
    "\n",
    "df.head()"
   ]
  },
  {
   "cell_type": "code",
   "execution_count": 162,
   "metadata": {},
   "outputs": [
    {
     "data": {
      "image/png": "[encoded data removed]",
      "text/plain": [
       "<Figure size 432x288 with 1 Axes>"
      ]
     },
     "metadata": {
      "needs_background": "light"
     },
     "output_type": "display_data"
    }
   ],
   "source": [
    "# custom min max scaler\n",
    "\n",
    "# 0~1 사이로 변환\n",
    "def mnmx_scl(vec):\n",
    "    vec = (vec-vec.min())/(vec.max()-vec.min())\n",
    "    return(vec)\n",
    "\n",
    "# 최대값이 1이되도록 변환\n",
    "def zrmx_scl(vec):\n",
    "    vec = vec/vec.max()\n",
    "    return(vec)\n",
    "\n",
    "\n",
    "plt.scatter(mnmx_scl(df.Interest_Rate), mnmx_scl(df.Stock_Index_Price))\n",
    "plt.xlabel('Interest_Rate')\n",
    "plt.ylabel('Stock_Index_Price')\n",
    "\n",
    "# 대각선 보조선 용도로 추가\n",
    "plt.plot([0, 1], [0, 1],  color='silver')\n",
    "plt.show()"
   ]
  },
  {
   "cell_type": "code",
   "execution_count": 169,
   "metadata": {},
   "outputs": [
    {
     "data": {
      "image/png": "[encoded data removed]",
      "text/plain": [
       "<Figure size 432x288 with 1 Axes>"
      ]
     },
     "metadata": {
      "needs_background": "light"
     },
     "output_type": "display_data"
    }
   ],
   "source": [
    "plt.scatter(zrmx_scl(df.Interest_Rate), zrmx_scl(df.Stock_Index_Price),\n",
    "           alpha=0.5, s=20)\n",
    "plt.xlabel('Interest_Rate')\n",
    "plt.ylabel('Stock_Index_Price')\n",
    "plt.xlim(0,1.05)\n",
    "plt.ylim(0,1.05)\n",
    "plt.plot([0, 1], [0, 1], color='silver', linestyle='dotted')\n",
    "plt.show()"
   ]
  },
  {
   "cell_type": "code",
   "execution_count": 29,
   "metadata": {},
   "outputs": [],
   "source": []
  }
 ],
 "metadata": {
  "kernelspec": {
   "display_name": "Python 3",
   "language": "python",
   "name": "python3"
  },
  "language_info": {
   "codemirror_mode": {
    "name": "ipython",
    "version": 3
   },
   "file_extension": ".py",
   "mimetype": "text/x-python",
   "name": "python",
   "nbconvert_exporter": "python",
   "pygments_lexer": "ipython3",
   "version": "3.8.3"
  }
 },
 "nbformat": 4,
 "nbformat_minor": 4
}
